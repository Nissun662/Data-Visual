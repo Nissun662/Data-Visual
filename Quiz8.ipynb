{
  "nbformat": 4,
  "nbformat_minor": 0,
  "metadata": {
    "colab": {
      "name": "Quiz8.ipynb",
      "provenance": [],
      "authorship_tag": "ABX9TyNr6nh3+YL93AyginXDhAA/",
      "include_colab_link": true
    },
    "kernelspec": {
      "name": "python3",
      "display_name": "Python 3"
    },
    "language_info": {
      "name": "python"
    }
  },
  "cells": [
    {
      "cell_type": "markdown",
      "metadata": {
        "id": "view-in-github",
        "colab_type": "text"
      },
      "source": [
        "<a href=\"https://colab.research.google.com/github/Nissun662/Data-Visual/blob/main/Quiz8.ipynb\" target=\"_parent\"><img src=\"https://colab.research.google.com/assets/colab-badge.svg\" alt=\"Open In Colab\"/></a>"
      ]
    },
    {
      "cell_type": "markdown",
      "source": [
        "#Data Processing and Visualization\n",
        "##Nishan Sunar  \n",
        "250662"
      ],
      "metadata": {
        "id": "1cxE1KIVzcHo"
      }
    },
    {
      "cell_type": "markdown",
      "source": [
        "#Today's Assignment: Web Scraping\n",
        "Navigate you the wikipedia page for your favorite television show or sports club.\n",
        "\n",
        "1. Display the title for the page\n",
        "2. Within an interesting table, retrieve all links and store them in a list"
      ],
      "metadata": {
        "id": "8R42_HWl0JlK"
      }
    },
    {
      "cell_type": "markdown",
      "source": [
        "First of all, importing packages to read and phrase my data gathered from web scrapping. I will use the request and BeautifulSoup to do that.\n"
      ],
      "metadata": {
        "id": "Tff1d2zr01Es"
      }
    },
    {
      "cell_type": "code",
      "execution_count": 1,
      "metadata": {
        "id": "LnXpyV9lzXvi"
      },
      "outputs": [],
      "source": [
        "import requests\n",
        "import pandas as pd\n",
        "from bs4 import BeautifulSoup"
      ]
    },
    {
      "cell_type": "markdown",
      "source": [
        "I am going to choose Ozark TV series to display the title for the page and retrieve all links to store them in a list. Here is the wikipedia link:\n",
        "https://en.wikipedia.org/wiki/Ozark_(TV_series)"
      ],
      "metadata": {
        "id": "63s6R--X19A1"
      }
    },
    {
      "cell_type": "code",
      "source": [
        "r = requests.get('https://en.wikipedia.org/wiki/Ozark_(TV_series)') #getting raw data direct from the wikipedia link\n",
        "html_contents = r.text\n",
        "html_soup = BeautifulSoup(html_contents,\"lxml\")\n",
        "#html_soup"
      ],
      "metadata": {
        "id": "vCrhmQLl11iJ"
      },
      "execution_count": 3,
      "outputs": []
    },
    {
      "cell_type": "markdown",
      "source": [
        "The html_soup is very huge soup so I have put them as a comment at the bottom of the command."
      ],
      "metadata": {
        "id": "kQxNyjcp4GB-"
      }
    },
    {
      "cell_type": "markdown",
      "source": [
        "# 1. Display the title for the page\n"
      ],
      "metadata": {
        "id": "VYFcVxc34cu4"
      }
    },
    {
      "cell_type": "code",
      "source": [
        "html_soup.title"
      ],
      "metadata": {
        "colab": {
          "base_uri": "https://localhost:8080/"
        },
        "id": "h-efw2Kw4ZGz",
        "outputId": "5c2bc82f-cc7b-496e-d31a-6af5f753dd2f"
      },
      "execution_count": 4,
      "outputs": [
        {
          "output_type": "execute_result",
          "data": {
            "text/plain": [
              "<title>Ozark (TV series) - Wikipedia</title>"
            ]
          },
          "metadata": {},
          "execution_count": 4
        }
      ]
    },
    {
      "cell_type": "markdown",
      "source": [
        "# 2. Within an interesting table, retrieve all links and store them in a list"
      ],
      "metadata": {
        "id": "IxSEsLPt4xBT"
      }
    },
    {
      "cell_type": "code",
      "source": [
        "html_soup.table.findAll('a')"
      ],
      "metadata": {
        "colab": {
          "base_uri": "https://localhost:8080/"
        },
        "id": "DyNYN2RR4inw",
        "outputId": "63f19639-f596-4e25-8798-18c20719af8a"
      },
      "execution_count": 5,
      "outputs": [
        {
          "output_type": "execute_result",
          "data": {
            "text/plain": [
              "[<a class=\"image\" href=\"/wiki/File:Ozark_TV_series_logo.svg\"><img alt=\"Ozark TV series logo.svg\" data-file-height=\"100\" data-file-width=\"378\" decoding=\"async\" height=\"66\" src=\"//upload.wikimedia.org/wikipedia/commons/thumb/7/73/Ozark_TV_series_logo.svg/250px-Ozark_TV_series_logo.svg.png\" srcset=\"//upload.wikimedia.org/wikipedia/commons/thumb/7/73/Ozark_TV_series_logo.svg/375px-Ozark_TV_series_logo.svg.png 1.5x, //upload.wikimedia.org/wikipedia/commons/thumb/7/73/Ozark_TV_series_logo.svg/500px-Ozark_TV_series_logo.svg.png 2x\" width=\"250\"/></a>,\n",
              " <a class=\"mw-redirect\" href=\"/wiki/Crime_drama\" title=\"Crime drama\">Crime drama</a>,\n",
              " <a href=\"/wiki/Thriller_(genre)\" title=\"Thriller (genre)\">Thriller</a>,\n",
              " <a href=\"/wiki/Bill_Dubuque\" title=\"Bill Dubuque\">Bill Dubuque</a>,\n",
              " <a href=\"/wiki/Mark_Williams_(filmmaker)\" title=\"Mark Williams (filmmaker)\">Mark Williams</a>,\n",
              " <a href=\"/wiki/Jason_Bateman\" title=\"Jason Bateman\">Jason Bateman</a>,\n",
              " <a href=\"/wiki/Laura_Linney\" title=\"Laura Linney\">Laura Linney</a>,\n",
              " <a href=\"/wiki/Sofia_Hublitz\" title=\"Sofia Hublitz\">Sofia Hublitz</a>,\n",
              " <a href=\"/wiki/Julia_Garner\" title=\"Julia Garner\">Julia Garner</a>,\n",
              " <a href=\"/wiki/Jordana_Spiro\" title=\"Jordana Spiro\">Jordana Spiro</a>,\n",
              " <a href=\"/wiki/Jason_Butler_Harner\" title=\"Jason Butler Harner\">Jason Butler Harner</a>,\n",
              " <a href=\"/wiki/Esai_Morales\" title=\"Esai Morales\">Esai Morales</a>,\n",
              " <a href=\"/wiki/Peter_Mullan\" title=\"Peter Mullan\">Peter Mullan</a>,\n",
              " <a href=\"/wiki/Lisa_Emery\" title=\"Lisa Emery\">Lisa Emery</a>,\n",
              " <a href=\"/wiki/Charlie_Tahan\" title=\"Charlie Tahan\">Charlie Tahan</a>,\n",
              " <a href=\"/wiki/Janet_McTeer\" title=\"Janet McTeer\">Janet McTeer</a>,\n",
              " <a href=\"/wiki/Tom_Pelphrey\" title=\"Tom Pelphrey\">Tom Pelphrey</a>,\n",
              " <a href=\"/wiki/Felix_Solis\" title=\"Felix Solis\">Felix Solis</a>,\n",
              " <a href=\"/wiki/Damian_Young\" title=\"Damian Young\">Damian Young</a>,\n",
              " <a href=\"/wiki/Alfonso_Herrera\" title=\"Alfonso Herrera\">Alfonso Herrera</a>,\n",
              " <a href=\"/wiki/Adam_Rothenberg\" title=\"Adam Rothenberg\">Adam Rothenberg</a>,\n",
              " <a href=\"#Episodes\">list of episodes</a>,\n",
              " <a href=\"/wiki/Georgia_(U.S._state)\" title=\"Georgia (U.S. state)\">Georgia</a>,\n",
              " <a href=\"/wiki/Ben_Kutchins\" title=\"Ben Kutchins\">Ben Kutchins</a>,\n",
              " <a href=\"/wiki/MRC_(company)\" title=\"MRC (company)\">MRC</a>,\n",
              " <a href=\"/wiki/Aggregate_Films\" title=\"Aggregate Films\">Aggregate Films</a>,\n",
              " <a href=\"/wiki/Netflix\" title=\"Netflix\">Netflix</a>,\n",
              " <a href=\"/wiki/4K_resolution\" title=\"4K resolution\">4K</a>,\n",
              " <a href=\"/wiki/Ultra-high-definition_television\" title=\"Ultra-high-definition television\">Ultra HD</a>,\n",
              " <a href=\"/wiki/High-dynamic-range_video\" title=\"High-dynamic-range video\">High dynamic range</a>,\n",
              " <a href=\"/wiki/Dolby_Digital\" title=\"Dolby Digital\">Dolby Digital</a>,\n",
              " <a class=\"external text\" href=\"https://www.netflix.com/title/80117552\" rel=\"nofollow\">Website</a>]"
            ]
          },
          "metadata": {},
          "execution_count": 5
        }
      ]
    },
    {
      "cell_type": "markdown",
      "source": [
        "These are the lists of all the links retrived from wikipedia."
      ],
      "metadata": {
        "id": "TLeqnCz66XrR"
      }
    },
    {
      "cell_type": "code",
      "source": [
        ""
      ],
      "metadata": {
        "id": "dJGyquoL4-sP"
      },
      "execution_count": null,
      "outputs": []
    }
  ]
}