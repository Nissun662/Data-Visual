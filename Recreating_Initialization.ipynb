{
  "nbformat": 4,
  "nbformat_minor": 0,
  "metadata": {
    "colab": {
      "name": "ProposalRecreating.ipynb",
      "provenance": [],
      "authorship_tag": "ABX9TyNyyjLKCZWhM1o8jzT9cyM3",
      "include_colab_link": true
    },
    "kernelspec": {
      "name": "python3",
      "display_name": "Python 3"
    },
    "language_info": {
      "name": "python"
    }
  },
  "cells": [
    {
      "cell_type": "markdown",
      "metadata": {
        "id": "view-in-github",
        "colab_type": "text"
      },
      "source": [
        "<a href=\"https://colab.research.google.com/github/Nissun662/Data-Visual/blob/main/Recreating_Initialization.ipynb\" target=\"_parent\"><img src=\"https://colab.research.google.com/assets/colab-badge.svg\" alt=\"Open In Colab\"/></a>"
      ]
    },
    {
      "cell_type": "markdown",
      "source": [
        "#Project Recreating the Master\n",
        "#Data Processing ad Visualization\n",
        "##Nishan Sunar\n",
        "250662"
      ],
      "metadata": {
        "id": "g82XvGry_eO3"
      }
    },
    {
      "cell_type": "markdown",
      "source": [
        "The topic that I have selected for Recreating the Masters is the chart(bar/barh) on the top 10 fastest land animals. \n",
        "\n",
        "The visualization link is https://www.grandviewoutdoors.com/gear/hunting/worlds-top-10-fastest-land-mammals\n",
        "\n",
        "The dataset link is https://github.com/Nissun662/Data-Visual/blob/main/Fastestanimalssss.csv\n"
      ],
      "metadata": {
        "id": "QcHBf-d6KWE9"
      }
    },
    {
      "cell_type": "code",
      "source": [
        ""
      ],
      "metadata": {
        "id": "jRN54UQHvAoR"
      },
      "execution_count": 359,
      "outputs": []
    },
    {
      "cell_type": "markdown",
      "source": [
        "#[Top 10 Fastest Land Animals](https://www.grandviewoutdoors.com/gear/hunting/worlds-top-10-fastest-land-mammals)\n",
        "\n",
        "![](https://www.grandviewoutdoors.com/uploads/wp-content/2017/02/Fastest-Mammals-chart2.jpg)"
      ],
      "metadata": {
        "id": "wZoVsUu4HoLZ"
      }
    },
    {
      "cell_type": "markdown",
      "source": [
        "The visualization I chose represents the top 10 fastest land mammals and it displays the name of the animal and their top speed in a barh diagram. It is easily understandable by any viewers to find out what animal runs at what speed. I am still looking for a reliable data set to work with so I have not disclosed the dataset link here.\n",
        "\n",
        "The only down side is not disclosing the name of the second last one. I will disclose the name of that animal while recreating the visual.\n",
        "\n",
        "The most hard part for me while recreating the above visualization will be putting the image of the corresponding animals right next to the barh.\n",
        "\n"
      ],
      "metadata": {
        "id": "m0XtTzaK1tgZ"
      }
    },
    {
      "cell_type": "code",
      "source": [
        "import pandas as pd\n",
        "\n",
        "df = pd.read_csv('https://raw.githubusercontent.com/Nissun662/Data-Visual/main/FastestMammals.csv')\n",
        "\n",
        "df.head(13)"
      ],
      "metadata": {
        "id": "Sj-_zRryq8Q5",
        "outputId": "5d6811ea-10e0-49c7-dff0-b6cd992370ed",
        "colab": {
          "base_uri": "https://localhost:8080/",
          "height": 394
        }
      },
      "execution_count": 360,
      "outputs": [
        {
          "output_type": "execute_result",
          "data": {
            "text/plain": [
              "    Rank             Mammals  MPH  Unnamed: 3  Unnamed: 4  Unnamed: 5  \\\n",
              "0      1             Cheetah   71         NaN         NaN         NaN   \n",
              "1      2  Pronghorn antelope   60         NaN         NaN         NaN   \n",
              "2      3     Blue Wildbeest    50         NaN         NaN         NaN   \n",
              "3      4           Springbok   50         NaN         NaN         NaN   \n",
              "4      5                Lion   50         NaN         NaN         NaN   \n",
              "5      6         Brown Hare    48         NaN         NaN         NaN   \n",
              "6      7             Red Fox   48         NaN         NaN         NaN   \n",
              "7      8      Giants Gazelle   47         NaN         NaN         NaN   \n",
              "8      9  Thompson's Gazelle   47         NaN         NaN         NaN   \n",
              "9     10               Horse   45         NaN         NaN         NaN   \n",
              "10    11  Rocky Mountain Elk   45         NaN         NaN         NaN   \n",
              "\n",
              "    Unnamed: 6  Unnamed: 7  \n",
              "0          NaN         NaN  \n",
              "1          NaN         NaN  \n",
              "2          NaN         NaN  \n",
              "3          NaN         NaN  \n",
              "4          NaN         NaN  \n",
              "5          NaN         NaN  \n",
              "6          NaN         NaN  \n",
              "7          NaN         NaN  \n",
              "8          NaN         NaN  \n",
              "9          NaN         NaN  \n",
              "10         NaN         NaN  "
            ],
            "text/html": [
              "\n",
              "  <div id=\"df-37b67584-e4e2-4c8d-8c73-f7b186fbb214\">\n",
              "    <div class=\"colab-df-container\">\n",
              "      <div>\n",
              "<style scoped>\n",
              "    .dataframe tbody tr th:only-of-type {\n",
              "        vertical-align: middle;\n",
              "    }\n",
              "\n",
              "    .dataframe tbody tr th {\n",
              "        vertical-align: top;\n",
              "    }\n",
              "\n",
              "    .dataframe thead th {\n",
              "        text-align: right;\n",
              "    }\n",
              "</style>\n",
              "<table border=\"1\" class=\"dataframe\">\n",
              "  <thead>\n",
              "    <tr style=\"text-align: right;\">\n",
              "      <th></th>\n",
              "      <th>Rank</th>\n",
              "      <th>Mammals</th>\n",
              "      <th>MPH</th>\n",
              "      <th>Unnamed: 3</th>\n",
              "      <th>Unnamed: 4</th>\n",
              "      <th>Unnamed: 5</th>\n",
              "      <th>Unnamed: 6</th>\n",
              "      <th>Unnamed: 7</th>\n",
              "    </tr>\n",
              "  </thead>\n",
              "  <tbody>\n",
              "    <tr>\n",
              "      <th>0</th>\n",
              "      <td>1</td>\n",
              "      <td>Cheetah</td>\n",
              "      <td>71</td>\n",
              "      <td>NaN</td>\n",
              "      <td>NaN</td>\n",
              "      <td>NaN</td>\n",
              "      <td>NaN</td>\n",
              "      <td>NaN</td>\n",
              "    </tr>\n",
              "    <tr>\n",
              "      <th>1</th>\n",
              "      <td>2</td>\n",
              "      <td>Pronghorn antelope</td>\n",
              "      <td>60</td>\n",
              "      <td>NaN</td>\n",
              "      <td>NaN</td>\n",
              "      <td>NaN</td>\n",
              "      <td>NaN</td>\n",
              "      <td>NaN</td>\n",
              "    </tr>\n",
              "    <tr>\n",
              "      <th>2</th>\n",
              "      <td>3</td>\n",
              "      <td>Blue Wildbeest</td>\n",
              "      <td>50</td>\n",
              "      <td>NaN</td>\n",
              "      <td>NaN</td>\n",
              "      <td>NaN</td>\n",
              "      <td>NaN</td>\n",
              "      <td>NaN</td>\n",
              "    </tr>\n",
              "    <tr>\n",
              "      <th>3</th>\n",
              "      <td>4</td>\n",
              "      <td>Springbok</td>\n",
              "      <td>50</td>\n",
              "      <td>NaN</td>\n",
              "      <td>NaN</td>\n",
              "      <td>NaN</td>\n",
              "      <td>NaN</td>\n",
              "      <td>NaN</td>\n",
              "    </tr>\n",
              "    <tr>\n",
              "      <th>4</th>\n",
              "      <td>5</td>\n",
              "      <td>Lion</td>\n",
              "      <td>50</td>\n",
              "      <td>NaN</td>\n",
              "      <td>NaN</td>\n",
              "      <td>NaN</td>\n",
              "      <td>NaN</td>\n",
              "      <td>NaN</td>\n",
              "    </tr>\n",
              "    <tr>\n",
              "      <th>5</th>\n",
              "      <td>6</td>\n",
              "      <td>Brown Hare</td>\n",
              "      <td>48</td>\n",
              "      <td>NaN</td>\n",
              "      <td>NaN</td>\n",
              "      <td>NaN</td>\n",
              "      <td>NaN</td>\n",
              "      <td>NaN</td>\n",
              "    </tr>\n",
              "    <tr>\n",
              "      <th>6</th>\n",
              "      <td>7</td>\n",
              "      <td>Red Fox</td>\n",
              "      <td>48</td>\n",
              "      <td>NaN</td>\n",
              "      <td>NaN</td>\n",
              "      <td>NaN</td>\n",
              "      <td>NaN</td>\n",
              "      <td>NaN</td>\n",
              "    </tr>\n",
              "    <tr>\n",
              "      <th>7</th>\n",
              "      <td>8</td>\n",
              "      <td>Giants Gazelle</td>\n",
              "      <td>47</td>\n",
              "      <td>NaN</td>\n",
              "      <td>NaN</td>\n",
              "      <td>NaN</td>\n",
              "      <td>NaN</td>\n",
              "      <td>NaN</td>\n",
              "    </tr>\n",
              "    <tr>\n",
              "      <th>8</th>\n",
              "      <td>9</td>\n",
              "      <td>Thompson's Gazelle</td>\n",
              "      <td>47</td>\n",
              "      <td>NaN</td>\n",
              "      <td>NaN</td>\n",
              "      <td>NaN</td>\n",
              "      <td>NaN</td>\n",
              "      <td>NaN</td>\n",
              "    </tr>\n",
              "    <tr>\n",
              "      <th>9</th>\n",
              "      <td>10</td>\n",
              "      <td>Horse</td>\n",
              "      <td>45</td>\n",
              "      <td>NaN</td>\n",
              "      <td>NaN</td>\n",
              "      <td>NaN</td>\n",
              "      <td>NaN</td>\n",
              "      <td>NaN</td>\n",
              "    </tr>\n",
              "    <tr>\n",
              "      <th>10</th>\n",
              "      <td>11</td>\n",
              "      <td>Rocky Mountain Elk</td>\n",
              "      <td>45</td>\n",
              "      <td>NaN</td>\n",
              "      <td>NaN</td>\n",
              "      <td>NaN</td>\n",
              "      <td>NaN</td>\n",
              "      <td>NaN</td>\n",
              "    </tr>\n",
              "  </tbody>\n",
              "</table>\n",
              "</div>\n",
              "      <button class=\"colab-df-convert\" onclick=\"convertToInteractive('df-37b67584-e4e2-4c8d-8c73-f7b186fbb214')\"\n",
              "              title=\"Convert this dataframe to an interactive table.\"\n",
              "              style=\"display:none;\">\n",
              "        \n",
              "  <svg xmlns=\"http://www.w3.org/2000/svg\" height=\"24px\"viewBox=\"0 0 24 24\"\n",
              "       width=\"24px\">\n",
              "    <path d=\"M0 0h24v24H0V0z\" fill=\"none\"/>\n",
              "    <path d=\"M18.56 5.44l.94 2.06.94-2.06 2.06-.94-2.06-.94-.94-2.06-.94 2.06-2.06.94zm-11 1L8.5 8.5l.94-2.06 2.06-.94-2.06-.94L8.5 2.5l-.94 2.06-2.06.94zm10 10l.94 2.06.94-2.06 2.06-.94-2.06-.94-.94-2.06-.94 2.06-2.06.94z\"/><path d=\"M17.41 7.96l-1.37-1.37c-.4-.4-.92-.59-1.43-.59-.52 0-1.04.2-1.43.59L10.3 9.45l-7.72 7.72c-.78.78-.78 2.05 0 2.83L4 21.41c.39.39.9.59 1.41.59.51 0 1.02-.2 1.41-.59l7.78-7.78 2.81-2.81c.8-.78.8-2.07 0-2.86zM5.41 20L4 18.59l7.72-7.72 1.47 1.35L5.41 20z\"/>\n",
              "  </svg>\n",
              "      </button>\n",
              "      \n",
              "  <style>\n",
              "    .colab-df-container {\n",
              "      display:flex;\n",
              "      flex-wrap:wrap;\n",
              "      gap: 12px;\n",
              "    }\n",
              "\n",
              "    .colab-df-convert {\n",
              "      background-color: #E8F0FE;\n",
              "      border: none;\n",
              "      border-radius: 50%;\n",
              "      cursor: pointer;\n",
              "      display: none;\n",
              "      fill: #1967D2;\n",
              "      height: 32px;\n",
              "      padding: 0 0 0 0;\n",
              "      width: 32px;\n",
              "    }\n",
              "\n",
              "    .colab-df-convert:hover {\n",
              "      background-color: #E2EBFA;\n",
              "      box-shadow: 0px 1px 2px rgba(60, 64, 67, 0.3), 0px 1px 3px 1px rgba(60, 64, 67, 0.15);\n",
              "      fill: #174EA6;\n",
              "    }\n",
              "\n",
              "    [theme=dark] .colab-df-convert {\n",
              "      background-color: #3B4455;\n",
              "      fill: #D2E3FC;\n",
              "    }\n",
              "\n",
              "    [theme=dark] .colab-df-convert:hover {\n",
              "      background-color: #434B5C;\n",
              "      box-shadow: 0px 1px 3px 1px rgba(0, 0, 0, 0.15);\n",
              "      filter: drop-shadow(0px 1px 2px rgba(0, 0, 0, 0.3));\n",
              "      fill: #FFFFFF;\n",
              "    }\n",
              "  </style>\n",
              "\n",
              "      <script>\n",
              "        const buttonEl =\n",
              "          document.querySelector('#df-37b67584-e4e2-4c8d-8c73-f7b186fbb214 button.colab-df-convert');\n",
              "        buttonEl.style.display =\n",
              "          google.colab.kernel.accessAllowed ? 'block' : 'none';\n",
              "\n",
              "        async function convertToInteractive(key) {\n",
              "          const element = document.querySelector('#df-37b67584-e4e2-4c8d-8c73-f7b186fbb214');\n",
              "          const dataTable =\n",
              "            await google.colab.kernel.invokeFunction('convertToInteractive',\n",
              "                                                     [key], {});\n",
              "          if (!dataTable) return;\n",
              "\n",
              "          const docLinkHtml = 'Like what you see? Visit the ' +\n",
              "            '<a target=\"_blank\" href=https://colab.research.google.com/notebooks/data_table.ipynb>data table notebook</a>'\n",
              "            + ' to learn more about interactive tables.';\n",
              "          element.innerHTML = '';\n",
              "          dataTable['output_type'] = 'display_data';\n",
              "          await google.colab.output.renderOutput(dataTable, element);\n",
              "          const docLink = document.createElement('div');\n",
              "          docLink.innerHTML = docLinkHtml;\n",
              "          element.appendChild(docLink);\n",
              "        }\n",
              "      </script>\n",
              "    </div>\n",
              "  </div>\n",
              "  "
            ]
          },
          "metadata": {},
          "execution_count": 360
        }
      ]
    },
    {
      "cell_type": "code",
      "source": [
        "list(df.columns)"
      ],
      "metadata": {
        "id": "8lPyPutUq_ac",
        "outputId": "0c5286d0-9b56-4e81-e73a-958f1d9c2e2b",
        "colab": {
          "base_uri": "https://localhost:8080/"
        }
      },
      "execution_count": 361,
      "outputs": [
        {
          "output_type": "execute_result",
          "data": {
            "text/plain": [
              "['Rank',\n",
              " 'Mammals',\n",
              " 'MPH',\n",
              " 'Unnamed: 3',\n",
              " 'Unnamed: 4',\n",
              " 'Unnamed: 5',\n",
              " 'Unnamed: 6',\n",
              " 'Unnamed: 7']"
            ]
          },
          "metadata": {},
          "execution_count": 361
        }
      ]
    },
    {
      "cell_type": "code",
      "source": [
        "df = df.drop(labels= 'Unnamed: 3', axis= 1)"
      ],
      "metadata": {
        "id": "dPYXmTqQrDcr"
      },
      "execution_count": 362,
      "outputs": []
    },
    {
      "cell_type": "code",
      "source": [
        "df = df.drop(labels= 'Unnamed: 4', axis= 1)"
      ],
      "metadata": {
        "id": "QpthkuZerGHo"
      },
      "execution_count": 363,
      "outputs": []
    },
    {
      "cell_type": "code",
      "source": [
        "df = df.drop(labels= 'Unnamed: 5', axis= 1)"
      ],
      "metadata": {
        "id": "kNUR-FYbrH2q"
      },
      "execution_count": 364,
      "outputs": []
    },
    {
      "cell_type": "code",
      "source": [
        "df = df.drop(labels= 'Unnamed: 6', axis= 1)"
      ],
      "metadata": {
        "id": "HwQb4bonrJ_L"
      },
      "execution_count": 365,
      "outputs": []
    },
    {
      "cell_type": "code",
      "source": [
        "df = df.drop(labels= 'Unnamed: 7', axis= 1)"
      ],
      "metadata": {
        "id": "wQvc8z0NrMSa"
      },
      "execution_count": 366,
      "outputs": []
    },
    {
      "cell_type": "code",
      "source": [
        "df"
      ],
      "metadata": {
        "id": "bbCaxU2orOF_",
        "outputId": "19e2546d-6279-4ace-b3e1-11010dff32bb",
        "colab": {
          "base_uri": "https://localhost:8080/",
          "height": 394
        }
      },
      "execution_count": 367,
      "outputs": [
        {
          "output_type": "execute_result",
          "data": {
            "text/plain": [
              "    Rank             Mammals  MPH\n",
              "0      1             Cheetah   71\n",
              "1      2  Pronghorn antelope   60\n",
              "2      3     Blue Wildbeest    50\n",
              "3      4           Springbok   50\n",
              "4      5                Lion   50\n",
              "5      6         Brown Hare    48\n",
              "6      7             Red Fox   48\n",
              "7      8      Giants Gazelle   47\n",
              "8      9  Thompson's Gazelle   47\n",
              "9     10               Horse   45\n",
              "10    11  Rocky Mountain Elk   45"
            ],
            "text/html": [
              "\n",
              "  <div id=\"df-a7a523d2-ebbb-4454-b5ee-a52e4ce5f21e\">\n",
              "    <div class=\"colab-df-container\">\n",
              "      <div>\n",
              "<style scoped>\n",
              "    .dataframe tbody tr th:only-of-type {\n",
              "        vertical-align: middle;\n",
              "    }\n",
              "\n",
              "    .dataframe tbody tr th {\n",
              "        vertical-align: top;\n",
              "    }\n",
              "\n",
              "    .dataframe thead th {\n",
              "        text-align: right;\n",
              "    }\n",
              "</style>\n",
              "<table border=\"1\" class=\"dataframe\">\n",
              "  <thead>\n",
              "    <tr style=\"text-align: right;\">\n",
              "      <th></th>\n",
              "      <th>Rank</th>\n",
              "      <th>Mammals</th>\n",
              "      <th>MPH</th>\n",
              "    </tr>\n",
              "  </thead>\n",
              "  <tbody>\n",
              "    <tr>\n",
              "      <th>0</th>\n",
              "      <td>1</td>\n",
              "      <td>Cheetah</td>\n",
              "      <td>71</td>\n",
              "    </tr>\n",
              "    <tr>\n",
              "      <th>1</th>\n",
              "      <td>2</td>\n",
              "      <td>Pronghorn antelope</td>\n",
              "      <td>60</td>\n",
              "    </tr>\n",
              "    <tr>\n",
              "      <th>2</th>\n",
              "      <td>3</td>\n",
              "      <td>Blue Wildbeest</td>\n",
              "      <td>50</td>\n",
              "    </tr>\n",
              "    <tr>\n",
              "      <th>3</th>\n",
              "      <td>4</td>\n",
              "      <td>Springbok</td>\n",
              "      <td>50</td>\n",
              "    </tr>\n",
              "    <tr>\n",
              "      <th>4</th>\n",
              "      <td>5</td>\n",
              "      <td>Lion</td>\n",
              "      <td>50</td>\n",
              "    </tr>\n",
              "    <tr>\n",
              "      <th>5</th>\n",
              "      <td>6</td>\n",
              "      <td>Brown Hare</td>\n",
              "      <td>48</td>\n",
              "    </tr>\n",
              "    <tr>\n",
              "      <th>6</th>\n",
              "      <td>7</td>\n",
              "      <td>Red Fox</td>\n",
              "      <td>48</td>\n",
              "    </tr>\n",
              "    <tr>\n",
              "      <th>7</th>\n",
              "      <td>8</td>\n",
              "      <td>Giants Gazelle</td>\n",
              "      <td>47</td>\n",
              "    </tr>\n",
              "    <tr>\n",
              "      <th>8</th>\n",
              "      <td>9</td>\n",
              "      <td>Thompson's Gazelle</td>\n",
              "      <td>47</td>\n",
              "    </tr>\n",
              "    <tr>\n",
              "      <th>9</th>\n",
              "      <td>10</td>\n",
              "      <td>Horse</td>\n",
              "      <td>45</td>\n",
              "    </tr>\n",
              "    <tr>\n",
              "      <th>10</th>\n",
              "      <td>11</td>\n",
              "      <td>Rocky Mountain Elk</td>\n",
              "      <td>45</td>\n",
              "    </tr>\n",
              "  </tbody>\n",
              "</table>\n",
              "</div>\n",
              "      <button class=\"colab-df-convert\" onclick=\"convertToInteractive('df-a7a523d2-ebbb-4454-b5ee-a52e4ce5f21e')\"\n",
              "              title=\"Convert this dataframe to an interactive table.\"\n",
              "              style=\"display:none;\">\n",
              "        \n",
              "  <svg xmlns=\"http://www.w3.org/2000/svg\" height=\"24px\"viewBox=\"0 0 24 24\"\n",
              "       width=\"24px\">\n",
              "    <path d=\"M0 0h24v24H0V0z\" fill=\"none\"/>\n",
              "    <path d=\"M18.56 5.44l.94 2.06.94-2.06 2.06-.94-2.06-.94-.94-2.06-.94 2.06-2.06.94zm-11 1L8.5 8.5l.94-2.06 2.06-.94-2.06-.94L8.5 2.5l-.94 2.06-2.06.94zm10 10l.94 2.06.94-2.06 2.06-.94-2.06-.94-.94-2.06-.94 2.06-2.06.94z\"/><path d=\"M17.41 7.96l-1.37-1.37c-.4-.4-.92-.59-1.43-.59-.52 0-1.04.2-1.43.59L10.3 9.45l-7.72 7.72c-.78.78-.78 2.05 0 2.83L4 21.41c.39.39.9.59 1.41.59.51 0 1.02-.2 1.41-.59l7.78-7.78 2.81-2.81c.8-.78.8-2.07 0-2.86zM5.41 20L4 18.59l7.72-7.72 1.47 1.35L5.41 20z\"/>\n",
              "  </svg>\n",
              "      </button>\n",
              "      \n",
              "  <style>\n",
              "    .colab-df-container {\n",
              "      display:flex;\n",
              "      flex-wrap:wrap;\n",
              "      gap: 12px;\n",
              "    }\n",
              "\n",
              "    .colab-df-convert {\n",
              "      background-color: #E8F0FE;\n",
              "      border: none;\n",
              "      border-radius: 50%;\n",
              "      cursor: pointer;\n",
              "      display: none;\n",
              "      fill: #1967D2;\n",
              "      height: 32px;\n",
              "      padding: 0 0 0 0;\n",
              "      width: 32px;\n",
              "    }\n",
              "\n",
              "    .colab-df-convert:hover {\n",
              "      background-color: #E2EBFA;\n",
              "      box-shadow: 0px 1px 2px rgba(60, 64, 67, 0.3), 0px 1px 3px 1px rgba(60, 64, 67, 0.15);\n",
              "      fill: #174EA6;\n",
              "    }\n",
              "\n",
              "    [theme=dark] .colab-df-convert {\n",
              "      background-color: #3B4455;\n",
              "      fill: #D2E3FC;\n",
              "    }\n",
              "\n",
              "    [theme=dark] .colab-df-convert:hover {\n",
              "      background-color: #434B5C;\n",
              "      box-shadow: 0px 1px 3px 1px rgba(0, 0, 0, 0.15);\n",
              "      filter: drop-shadow(0px 1px 2px rgba(0, 0, 0, 0.3));\n",
              "      fill: #FFFFFF;\n",
              "    }\n",
              "  </style>\n",
              "\n",
              "      <script>\n",
              "        const buttonEl =\n",
              "          document.querySelector('#df-a7a523d2-ebbb-4454-b5ee-a52e4ce5f21e button.colab-df-convert');\n",
              "        buttonEl.style.display =\n",
              "          google.colab.kernel.accessAllowed ? 'block' : 'none';\n",
              "\n",
              "        async function convertToInteractive(key) {\n",
              "          const element = document.querySelector('#df-a7a523d2-ebbb-4454-b5ee-a52e4ce5f21e');\n",
              "          const dataTable =\n",
              "            await google.colab.kernel.invokeFunction('convertToInteractive',\n",
              "                                                     [key], {});\n",
              "          if (!dataTable) return;\n",
              "\n",
              "          const docLinkHtml = 'Like what you see? Visit the ' +\n",
              "            '<a target=\"_blank\" href=https://colab.research.google.com/notebooks/data_table.ipynb>data table notebook</a>'\n",
              "            + ' to learn more about interactive tables.';\n",
              "          element.innerHTML = '';\n",
              "          dataTable['output_type'] = 'display_data';\n",
              "          await google.colab.output.renderOutput(dataTable, element);\n",
              "          const docLink = document.createElement('div');\n",
              "          docLink.innerHTML = docLinkHtml;\n",
              "          element.appendChild(docLink);\n",
              "        }\n",
              "      </script>\n",
              "    </div>\n",
              "  </div>\n",
              "  "
            ]
          },
          "metadata": {},
          "execution_count": 367
        }
      ]
    },
    {
      "cell_type": "code",
      "source": [
        "import matplotlib.pyplot as plt\n",
        "\n",
        "plt.barh(df['Mammals'],df['MPH'])\n",
        "plt.rcParams[\"figure.figsize\"] = (13, 13)\n",
        "plt.show()"
      ],
      "metadata": {
        "id": "reeNO93irP0w",
        "outputId": "e18551c6-de50-46e6-9adf-f62720370c26",
        "colab": {
          "base_uri": "https://localhost:8080/",
          "height": 945
        }
      },
      "execution_count": 368,
      "outputs": [
        {
          "output_type": "display_data",
          "data": {
            "text/plain": [
              "<Figure size 936x936 with 1 Axes>"
            ],
            "image/png": "[encoded data removed]"
          },
          "metadata": {
            "needs_background": "light"
          }
        }
      ]
    },
    {
      "cell_type": "code",
      "source": [
        "import numpy as np\n",
        " \n",
        "# create a dataset\n",
        "speed = [71, 60, 50, 50, 50, 48, 48, 47, 47, 45, 45 ]\n",
        "mammals = ('Cheetah', 'Pornhorn antelope', 'Blue Wildbeest', 'Springbok', 'Lion', 'Brown Hare', 'Red Fox', 'Giants Gazelle', 'Thompsons Gazalle', 'Horse', 'Rockey Mountain Elk' )\n",
        "y_pos = np.arange(len(mammals))\n",
        "\n",
        "# Create bars with different colors\n",
        "plt.barh(y_pos, speed, color=['#C04000', '#C04000', '#C04000', '#C04000', '#C04000', '#C04000', '#C04000', '#C04000', '#C04000', '#C04000', '#C04000'])\n",
        "\n",
        "# Create names on the y-axis\n",
        "plt.yticks(y_pos, mammals)\n",
        "\n",
        "# Show graph\n",
        "plt.show()"
      ],
      "metadata": {
        "id": "iY6PZR90rSvy",
        "colab": {
          "base_uri": "https://localhost:8080/",
          "height": 945
        },
        "outputId": "63ee86a7-4722-4473-b56e-998e06045ba8"
      },
      "execution_count": 369,
      "outputs": [
        {
          "output_type": "display_data",
          "data": {
            "text/plain": [
              "<Figure size 936x936 with 1 Axes>"
            ],
            "image/png": "[encoded data removed]"
          },
          "metadata": {
            "needs_background": "light"
          }
        }
      ]
    },
    {
      "cell_type": "code",
      "source": [
        "# Define Data\n",
        "\n",
        "mammals = ['Cheetah', 'Pornhorn antelope', 'Blue Wildbeest', 'Springbok', 'Lion', 'Brown Hare', 'Red Fox', 'Giants Gazelle', 'Thompsons Gazalle', 'Horse', 'Rockey Mountain Elk']\n",
        "speed = [70, 60, 50, 50, 50, 48, 48, 47, 47, 45, 45 ]\n",
        "\n",
        "  \n",
        "# Plot Graph\n",
        "\n",
        "plt.barh(mammals, speed)\n",
        "ax=plt.axes()\n",
        "plt.barh(y_pos, speed, color=('#C04000', '#C04000', '#C04000', '#C04000', '#C04000', '#C04000', '#C04000', '#C04000', '#C04000', '#C04000', '#C04000'), linewidth=3, edgecolor='#EBF4FA')\n",
        "plt.title('Top 10 Fastest Land Mammals')\n",
        "plt.xlabel('MPH')\n",
        "plt.ylabel('Animal')\n",
        "\n",
        "# Set color\n",
        "\n",
        "ax.set_facecolor('#87CEEB')\n",
        "\n",
        "# Display Graph\n",
        "\n",
        "plt.show()"
      ],
      "metadata": {
        "colab": {
          "base_uri": "https://localhost:8080/",
          "height": 1000
        },
        "id": "cdKNtaCF-Xjb",
        "outputId": "378ed1f8-916e-44cb-8792-b3a8ccc515e7"
      },
      "execution_count": 370,
      "outputs": [
        {
          "output_type": "stream",
          "name": "stderr",
          "text": [
            "/usr/local/lib/python3.7/dist-packages/ipykernel_launcher.py:10: MatplotlibDeprecationWarning: Adding an axes using the same arguments as a previous axes currently reuses the earlier instance.  In a future version, a new instance will always be created and returned.  Meanwhile, this warning can be suppressed, and the future behavior ensured, by passing a unique label to each axes instance.\n",
            "  # Remove the CWD from sys.path while we load stuff.\n"
          ]
        },
        {
          "output_type": "display_data",
          "data": {
            "text/plain": [
              "<Figure size 936x936 with 1 Axes>"
            ],
            "image/png": "[encoded data removed]"
          },
          "metadata": {
            "needs_background": "light"
          }
        }
      ]
    },
    {
      "cell_type": "code",
      "source": [
        ""
      ],
      "metadata": {
        "id": "1irt0Pv2U6Xg"
      },
      "execution_count": 370,
      "outputs": []
    }
  ]
}