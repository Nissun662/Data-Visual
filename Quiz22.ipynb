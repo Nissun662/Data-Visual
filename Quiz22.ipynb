{
  "nbformat": 4,
  "nbformat_minor": 0,
  "metadata": {
    "colab": {
      "name": "Quiz22.ipynb",
      "provenance": [],
      "authorship_tag": "ABX9TyMdOHsv85VqMa9kcVe3WZM0",
      "include_colab_link": true
    },
    "kernelspec": {
      "name": "python3",
      "display_name": "Python 3"
    },
    "language_info": {
      "name": "python"
    }
  },
  "cells": [
    {
      "cell_type": "markdown",
      "metadata": {
        "id": "view-in-github",
        "colab_type": "text"
      },
      "source": [
        "<a href=\"https://colab.research.google.com/github/Nissun662/Data-Visual/blob/main/Quiz22.ipynb\" target=\"_parent\"><img src=\"https://colab.research.google.com/assets/colab-badge.svg\" alt=\"Open In Colab\"/></a>"
      ]
    },
    {
      "cell_type": "markdown",
      "source": [
        "#Data Processing and visualization\n",
        "##Nishan Sunar\n",
        "\n",
        "250662"
      ],
      "metadata": {
        "id": "fWHOIIgyJ_Oa"
      }
    },
    {
      "cell_type": "code",
      "execution_count": null,
      "metadata": {
        "id": "uZn_O72nJ8C0"
      },
      "outputs": [],
      "source": [
        ""
      ]
    }
  ]
}