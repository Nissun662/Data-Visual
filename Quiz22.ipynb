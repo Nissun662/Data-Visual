{
  "nbformat": 4,
  "nbformat_minor": 0,
  "metadata": {
    "colab": {
      "name": "Quiz22.ipynb",
      "provenance": [],
      "authorship_tag": "ABX9TyNBo9QumgDwS0PbnFMGYukA",
      "include_colab_link": true
    },
    "kernelspec": {
      "name": "python3",
      "display_name": "Python 3"
    },
    "language_info": {
      "name": "python"
    }
  },
  "cells": [
    {
      "cell_type": "markdown",
      "metadata": {
        "id": "view-in-github",
        "colab_type": "text"
      },
      "source": [
        "<a href=\"https://colab.research.google.com/github/Nissun662/Data-Visual/blob/main/Quiz22.ipynb\" target=\"_parent\"><img src=\"https://colab.research.google.com/assets/colab-badge.svg\" alt=\"Open In Colab\"/></a>"
      ]
    },
    {
      "cell_type": "markdown",
      "source": [
        "#Data Processing and visualization\n",
        "##Nishan Sunar\n",
        "\n",
        "250662"
      ],
      "metadata": {
        "id": "fWHOIIgyJ_Oa"
      }
    },
    {
      "cell_type": "markdown",
      "source": [
        "#Today's Assignment: \n",
        "\n",
        "Head over to [Oklahaoma Research Day](https://symposium.foragerone.com/okrd22). Spend some time looking at three posters that include statistical charts or graphs.  Include links to each.  Discuss the strengths and weaknesses of each.  Do they display excellence or do they lie?"
      ],
      "metadata": {
        "id": "-DJUjcKDfKIF"
      }
    },
    {
      "cell_type": "markdown",
      "source": [
        "[Agricultural Technology Adoption Among Smallholder Farmers in Kenya: A Case Study of Kakamega County](https://symposium.foragerone.com/okrd22/presentations/37657)\n",
        "\n",
        "In this study, the southeastern sub-countries of Malava, Ikolomani, Lurambi and Shinyalu were picked to conduct the study of smallholder farms and comprehend farmer's struggle and explanation why modern agricultural technologeies are required to overcome the impediments. The reduction in the production of agricultural goods had directly affected the economic prosperity of these countries. For years, the smallholder farmers have been using tradition equiptments for farming that is why the main objective of this research is to find out why are the farmers still using the same tools instead of replacing it with more effective modern tools. Some of the outcomes were, a combination of reluctance, mistrust resulting from negative past experiences, lack of efficient communication channels, and sociocultural practices were found to be contributing factors on the absence of agricultural technology adoption."
      ],
      "metadata": {
        "id": "cjyVckfTgFC8"
      }
    },
    {
      "cell_type": "code",
      "execution_count": null,
      "metadata": {
        "id": "uZn_O72nJ8C0"
      },
      "outputs": [],
      "source": [
        ""
      ]
    }
  ]
}