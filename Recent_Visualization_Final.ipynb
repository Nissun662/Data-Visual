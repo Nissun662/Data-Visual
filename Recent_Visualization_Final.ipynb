{
  "nbformat": 4,
  "nbformat_minor": 0,
  "metadata": {
    "colab": {
      "name": "ProposalRecentViz.ipynb",
      "provenance": [],
      "authorship_tag": "ABX9TyPp5OwBMEl43ApsWTBOkVKm",
      "include_colab_link": true
    },
    "kernelspec": {
      "name": "python3",
      "display_name": "Python 3"
    },
    "language_info": {
      "name": "python"
    }
  },
  "cells": [
    {
      "cell_type": "markdown",
      "metadata": {
        "id": "view-in-github",
        "colab_type": "text"
      },
      "source": [
        "<a href=\"https://colab.research.google.com/github/Nissun662/Data-Visual/blob/main/Recent_Visualization_Final.ipynb\" target=\"_parent\"><img src=\"https://colab.research.google.com/assets/colab-badge.svg\" alt=\"Open In Colab\"/></a>"
      ]
    },
    {
      "cell_type": "markdown",
      "source": [
        "#Project Recent Visualization\n",
        "#Data Processing ad Visualization CPSMA 4313\n",
        "#Dr. Nicholas Jacob\n",
        "##Nishan Sunar\n",
        "250662"
      ],
      "metadata": {
        "id": "dStFL-mlE3AB"
      }
    },
    {
      "cell_type": "markdown",
      "source": [
        "For the project Recent Visualization, I am choosing the topic UEFA Champions League 2021-2022. UEFA Champions League (UCL) is the Europe's premier club football tournament which is organized anually by the Union of European Football Association (UEFA). A total of 32 teams will be competing in the 2021-22 UEFA Champions League with a dream of winning the most prestigious trophy in professional club football.  \n",
        "\n",
        "Since UCL is one of the famous sports broadcasted all over the world through different sports channels, I believe most of my classmates are familiar with it. I will be focusing on how tv/sports channel from Manchester, England portrays the champions leaguge with that of Madrid, Spain. I am already getting into researching the local channels and news papers to see how things are different in people living in different regions of Europe. The topic I chose  will be appropriate as I can find many visualization and datasets to work with. Since, I watch all game live on my laptop I can tell whether or not the information/visuals found on web while doing my research are representing honest facts or just some misleading information.\n",
        "\n",
        "While doing this project, I hope to learn how to critic on a data visualization. I can carefully look at the graph or heat map or some other visuals and tell if it is representing a good or bad information. I will aslo learn to broaden my skill of researching and gathering data from the web. \n",
        "\n"
      ],
      "metadata": {
        "id": "Jq_ySzh5y7rP"
      }
    },
    {
      "cell_type": "markdown",
      "source": [
        "![Real Madrid Lineup](https://totalfootballanalysis.com/wp-content/uploads/2022/05/Real-Madrid-vs-Manchester-City_page-0002-scaled.jpg)\n",
        "\n",
        "![Man City Lineup](https://totalfootballanalysis.com/wp-content/uploads/2022/05/Real-Madrid-vs-Manchester-City_page-0004-scaled.jpg)\n",
        "\n",
        "\n",
        "\n",
        "The visualization presented here is the starting line up of Real Madrid FC and Manchester City FC semifinal match in Champion's league.This visualization is excellent as it gives the names of each players starting the game with the jersey numbers alonbg the the players in the bench which will play as substitues during the game. The visualization also gives the information about the starting line up style ( 4-2-3-1 for madrid and 4-3-3 for Man city),position of a player. For example No. 9 is playing as the striker, no. 1 as a goal keeeper etc. The green up sign and the red down sign represents the players surrent rating going up or down. \n"
      ],
      "metadata": {
        "id": "lCW213X5GFbH"
      }
    },
    {
      "cell_type": "markdown",
      "source": [
        "![Real Madrid Vs Man City First leg](https://pbs.twimg.com/media/FRTGlwtWQAAl5s7?format=jpg&name=900x900)\n",
        "\n",
        "\n",
        "The first leg was played in Man city's home. City was able to score 4 goals and madrid sored 3. This visualization is not excellent because it only show the goals scored by 2 clubs. It would have been far more better if the visualization showed what time of the game was the goal scored."
      ],
      "metadata": {
        "id": "jYYEqnlKJKYN"
      }
    },
    {
      "cell_type": "markdown",
      "source": [
        "#Reference\n",
        "1. https://totalfootballanalysis.com/data-analysis/uefa-champions-league-2021-22-real-madrid-vs-manchester-city-data-viz-stats-and-insights\n",
        "2. https://twitter.com/TheAthleticUK/status/1519057603946557440?ref_src=twsrc%5Etfw%7Ctwcamp%5Etweetembed%7Ctwterm%5E1519057603946557440%7Ctwgr%5E%7Ctwcon%5Es1_&ref_url=https%3A%2F%2Ftheathletic.com%2Flive-blogs%2Fman-city-real-madrid-score%2F7wzLMazvGkk8%2F"
      ],
      "metadata": {
        "id": "Y4rlV5NgH7um"
      }
    },
    {
      "cell_type": "code",
      "source": [
        ""
      ],
      "metadata": {
        "id": "8KBtsaMBHgwb"
      },
      "execution_count": null,
      "outputs": []
    }
  ]
}