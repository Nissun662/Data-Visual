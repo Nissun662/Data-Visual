{
  "nbformat": 4,
  "nbformat_minor": 0,
  "metadata": {
    "colab": {
      "name": "Quiz26.ipynb",
      "provenance": [],
      "authorship_tag": "ABX9TyOy4DAWTsNb1ghdQqJrv28P",
      "include_colab_link": true
    },
    "kernelspec": {
      "name": "python3",
      "display_name": "Python 3"
    },
    "language_info": {
      "name": "python"
    }
  },
  "cells": [
    {
      "cell_type": "markdown",
      "metadata": {
        "id": "view-in-github",
        "colab_type": "text"
      },
      "source": [
        "<a href=\"https://colab.research.google.com/github/Nissun662/Data-Visual/blob/main/Quiz26.ipynb\" target=\"_parent\"><img src=\"https://colab.research.google.com/assets/colab-badge.svg\" alt=\"Open In Colab\"/></a>"
      ]
    },
    {
      "cell_type": "markdown",
      "source": [
        "#Data Processing and Visualization\n",
        "##Nishan Sunar\n",
        "250662"
      ],
      "metadata": {
        "id": "TGMDgeOEyFUe"
      }
    },
    {
      "cell_type": "markdown",
      "source": [
        "#Today'sAssignment:\n",
        "\n",
        "Recreate the three boxplots in this lecture using seaborn. Add the jittered points to the final boxplot.\n"
      ],
      "metadata": {
        "id": "oegfM7R-yLuP"
      }
    },
    {
      "cell_type": "code",
      "execution_count": null,
      "metadata": {
        "id": "Q0dvQxeuyEyd"
      },
      "outputs": [],
      "source": [
        ""
      ]
    }
  ]
}