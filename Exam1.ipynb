{
  "nbformat": 4,
  "nbformat_minor": 0,
  "metadata": {
    "colab": {
      "name": "Exam1.ipynb",
      "provenance": [],
      "collapsed_sections": [],
      "authorship_tag": "ABX9TyMNCDDJkVCb1NMKk/120g3v",
      "include_colab_link": true
    },
    "kernelspec": {
      "name": "python3",
      "display_name": "Python 3"
    },
    "language_info": {
      "name": "python"
    }
  },
  "cells": [
    {
      "cell_type": "markdown",
      "metadata": {
        "id": "view-in-github",
        "colab_type": "text"
      },
      "source": [
        "<a href=\"https://colab.research.google.com/github/Nissun662/Data-Visual/blob/main/Exam1.ipynb\" target=\"_parent\"><img src=\"https://colab.research.google.com/assets/colab-badge.svg\" alt=\"Open In Colab\"/></a>"
      ]
    },
    {
      "cell_type": "markdown",
      "source": [
        "#Exam 1\n",
        "##Nishan Sunar\n",
        "250662  \n",
        "CPSMA 4313"
      ],
      "metadata": {
        "id": "vr9r_1B9ogJs"
      }
    },
    {
      "cell_type": "markdown",
      "source": [
        "Before I begin my exam, I am going to load all libraries required to complete the assignment. I will also need to get authenticated with google cloud sandbox to access the public data set from big querry."
      ],
      "metadata": {
        "id": "KLZmJn9-qpJQ"
      }
    },
    {
      "cell_type": "code",
      "source": [
        "#Authenticating \n",
        "from google.colab import auth\n",
        "auth.authenticate_user()\n",
        "print('Authenticated')\n",
        "\n",
        "#Libraries\n",
        "import requests\n",
        "import pandas as pd\n",
        "from bs4 import BeautifulSoup\n",
        "import matplotlib.pyplot as plt\n",
        "from tabulate import tabulate\n"
      ],
      "metadata": {
        "colab": {
          "base_uri": "https://localhost:8080/"
        },
        "id": "qM3aq9YasSdG",
        "outputId": "f7ff8399-4238-441c-dbdf-b33eafe3c0e0"
      },
      "execution_count": 15,
      "outputs": [
        {
          "output_type": "stream",
          "name": "stdout",
          "text": [
            "Authenticated\n"
          ]
        }
      ]
    },
    {
      "cell_type": "markdown",
      "source": [
        "##1. Gather the table on 8000 km mountains from the wikipedia page https://en.wikipedia.org/wiki/List of mountains by elevation  \n",
        "##(a) (10 points) Store the data as a pandas dataframe  \n"
      ],
      "metadata": {
        "id": "8uJZLEjpqXT0"
      }
    },
    {
      "cell_type": "code",
      "source": [
        "r = requests.get('https://en.wikipedia.org/wiki/List_of_mountains_by_elevation') #Extracting raw data directly from the wikipage\n",
        "contents = r.text\n",
        "html_soup = BeautifulSoup(contents,\"lxml\")\n",
        "#html_soup"
      ],
      "metadata": {
        "id": "wkJW17mK8hA0"
      },
      "execution_count": 16,
      "outputs": []
    },
    {
      "cell_type": "markdown",
      "source": [
        "I have referenced `#html_soup` as a comment because it is a huge soup and we do not need to display it right now."
      ],
      "metadata": {
        "id": "Yw5H5XV9FGFd"
      }
    },
    {
      "cell_type": "code",
      "source": [
        "html_soup.title #displaying the title for the page"
      ],
      "metadata": {
        "colab": {
          "base_uri": "https://localhost:8080/"
        },
        "id": "nCZd0F4b8rIc",
        "outputId": "aaf8c319-b8af-487c-d714-05c060c51fdd"
      },
      "execution_count": 17,
      "outputs": [
        {
          "output_type": "execute_result",
          "data": {
            "text/plain": [
              "<title>List of mountains by elevation - Wikipedia</title>"
            ]
          },
          "metadata": {},
          "execution_count": 17
        }
      ]
    },
    {
      "cell_type": "code",
      "source": [
        "#8000 km Mountains from the wiki link\n",
        "tables = html_soup.find_all('table',class_=\"wikitable\")\n",
        "tables[0].find_all('a')\n",
        "df = pd.read_html(str(tables))[0]\n",
        "df"
      ],
      "metadata": {
        "id": "1hEEt8xrGMXv",
        "outputId": "5d38d579-4e72-4a0c-dcad-13db983beba6",
        "colab": {
          "base_uri": "https://localhost:8080/",
          "height": 488
        }
      },
      "execution_count": 18,
      "outputs": [
        {
          "output_type": "execute_result",
          "data": {
            "text/html": [
              "\n",
              "  <div id=\"df-35e5b7b2-1999-4afe-a808-0a33bc342d9b\">\n",
              "    <div class=\"colab-df-container\">\n",
              "      <div>\n",
              "<style scoped>\n",
              "    .dataframe tbody tr th:only-of-type {\n",
              "        vertical-align: middle;\n",
              "    }\n",
              "\n",
              "    .dataframe tbody tr th {\n",
              "        vertical-align: top;\n",
              "    }\n",
              "\n",
              "    .dataframe thead th {\n",
              "        text-align: right;\n",
              "    }\n",
              "</style>\n",
              "<table border=\"1\" class=\"dataframe\">\n",
              "  <thead>\n",
              "    <tr style=\"text-align: right;\">\n",
              "      <th></th>\n",
              "      <th>Mountain</th>\n",
              "      <th>Metres</th>\n",
              "      <th>Feet</th>\n",
              "      <th>Range</th>\n",
              "      <th>Location and Notes</th>\n",
              "    </tr>\n",
              "  </thead>\n",
              "  <tbody>\n",
              "    <tr>\n",
              "      <th>0</th>\n",
              "      <td>Mount Everest</td>\n",
              "      <td>8849</td>\n",
              "      <td>29032</td>\n",
              "      <td>Himalayas</td>\n",
              "      <td>Nepal/China</td>\n",
              "    </tr>\n",
              "    <tr>\n",
              "      <th>1</th>\n",
              "      <td>K2</td>\n",
              "      <td>8611</td>\n",
              "      <td>28251</td>\n",
              "      <td>Karakoram</td>\n",
              "      <td>Pakistan/China</td>\n",
              "    </tr>\n",
              "    <tr>\n",
              "      <th>2</th>\n",
              "      <td>Kangchenjunga</td>\n",
              "      <td>8586</td>\n",
              "      <td>28169</td>\n",
              "      <td>Himalayas</td>\n",
              "      <td>Nepal/India</td>\n",
              "    </tr>\n",
              "    <tr>\n",
              "      <th>3</th>\n",
              "      <td>Lhotse</td>\n",
              "      <td>8516</td>\n",
              "      <td>27940</td>\n",
              "      <td>Himalayas</td>\n",
              "      <td>Nepal – Climbers ascend Lhotse Face in climbin...</td>\n",
              "    </tr>\n",
              "    <tr>\n",
              "      <th>4</th>\n",
              "      <td>Makalu</td>\n",
              "      <td>8485</td>\n",
              "      <td>27838</td>\n",
              "      <td>Himalayas</td>\n",
              "      <td>Nepal</td>\n",
              "    </tr>\n",
              "    <tr>\n",
              "      <th>5</th>\n",
              "      <td>Cho Oyu</td>\n",
              "      <td>8188</td>\n",
              "      <td>26864</td>\n",
              "      <td>Himalayas</td>\n",
              "      <td>Nepal – Considered \"easiest\" eight-thousander</td>\n",
              "    </tr>\n",
              "    <tr>\n",
              "      <th>6</th>\n",
              "      <td>Dhaulagiri</td>\n",
              "      <td>8167</td>\n",
              "      <td>26795</td>\n",
              "      <td>Himalayas</td>\n",
              "      <td>Nepal – Presumed world's highest from 1808-1838</td>\n",
              "    </tr>\n",
              "    <tr>\n",
              "      <th>7</th>\n",
              "      <td>Manaslu</td>\n",
              "      <td>8163</td>\n",
              "      <td>26781</td>\n",
              "      <td>Himalayas</td>\n",
              "      <td>Nepal</td>\n",
              "    </tr>\n",
              "    <tr>\n",
              "      <th>8</th>\n",
              "      <td>Nanga Parbat</td>\n",
              "      <td>8126</td>\n",
              "      <td>26660</td>\n",
              "      <td>Himalayas</td>\n",
              "      <td>Pakistan</td>\n",
              "    </tr>\n",
              "    <tr>\n",
              "      <th>9</th>\n",
              "      <td>Annapurna</td>\n",
              "      <td>8091</td>\n",
              "      <td>26545</td>\n",
              "      <td>Himalayas</td>\n",
              "      <td>Nepal – First eight-thousander to be climbed (...</td>\n",
              "    </tr>\n",
              "    <tr>\n",
              "      <th>10</th>\n",
              "      <td>Gasherbrum I (Hidden peak; K5)</td>\n",
              "      <td>8080</td>\n",
              "      <td>26509</td>\n",
              "      <td>Karakoram</td>\n",
              "      <td>Pakistan /China – Originally named K5</td>\n",
              "    </tr>\n",
              "    <tr>\n",
              "      <th>11</th>\n",
              "      <td>Broad Peak</td>\n",
              "      <td>8051</td>\n",
              "      <td>26414</td>\n",
              "      <td>Karakoram</td>\n",
              "      <td>Pakistan /China</td>\n",
              "    </tr>\n",
              "    <tr>\n",
              "      <th>12</th>\n",
              "      <td>Gasherbrum II (K4)</td>\n",
              "      <td>8035</td>\n",
              "      <td>26362</td>\n",
              "      <td>Karakoram</td>\n",
              "      <td>Pakistan/China – Originally named K4</td>\n",
              "    </tr>\n",
              "    <tr>\n",
              "      <th>13</th>\n",
              "      <td>Shishapangma</td>\n",
              "      <td>8027</td>\n",
              "      <td>26335</td>\n",
              "      <td>Himalayas</td>\n",
              "      <td>China</td>\n",
              "    </tr>\n",
              "  </tbody>\n",
              "</table>\n",
              "</div>\n",
              "      <button class=\"colab-df-convert\" onclick=\"convertToInteractive('df-35e5b7b2-1999-4afe-a808-0a33bc342d9b')\"\n",
              "              title=\"Convert this dataframe to an interactive table.\"\n",
              "              style=\"display:none;\">\n",
              "        \n",
              "  <svg xmlns=\"http://www.w3.org/2000/svg\" height=\"24px\"viewBox=\"0 0 24 24\"\n",
              "       width=\"24px\">\n",
              "    <path d=\"M0 0h24v24H0V0z\" fill=\"none\"/>\n",
              "    <path d=\"M18.56 5.44l.94 2.06.94-2.06 2.06-.94-2.06-.94-.94-2.06-.94 2.06-2.06.94zm-11 1L8.5 8.5l.94-2.06 2.06-.94-2.06-.94L8.5 2.5l-.94 2.06-2.06.94zm10 10l.94 2.06.94-2.06 2.06-.94-2.06-.94-.94-2.06-.94 2.06-2.06.94z\"/><path d=\"M17.41 7.96l-1.37-1.37c-.4-.4-.92-.59-1.43-.59-.52 0-1.04.2-1.43.59L10.3 9.45l-7.72 7.72c-.78.78-.78 2.05 0 2.83L4 21.41c.39.39.9.59 1.41.59.51 0 1.02-.2 1.41-.59l7.78-7.78 2.81-2.81c.8-.78.8-2.07 0-2.86zM5.41 20L4 18.59l7.72-7.72 1.47 1.35L5.41 20z\"/>\n",
              "  </svg>\n",
              "      </button>\n",
              "      \n",
              "  <style>\n",
              "    .colab-df-container {\n",
              "      display:flex;\n",
              "      flex-wrap:wrap;\n",
              "      gap: 12px;\n",
              "    }\n",
              "\n",
              "    .colab-df-convert {\n",
              "      background-color: #E8F0FE;\n",
              "      border: none;\n",
              "      border-radius: 50%;\n",
              "      cursor: pointer;\n",
              "      display: none;\n",
              "      fill: #1967D2;\n",
              "      height: 32px;\n",
              "      padding: 0 0 0 0;\n",
              "      width: 32px;\n",
              "    }\n",
              "\n",
              "    .colab-df-convert:hover {\n",
              "      background-color: #E2EBFA;\n",
              "      box-shadow: 0px 1px 2px rgba(60, 64, 67, 0.3), 0px 1px 3px 1px rgba(60, 64, 67, 0.15);\n",
              "      fill: #174EA6;\n",
              "    }\n",
              "\n",
              "    [theme=dark] .colab-df-convert {\n",
              "      background-color: #3B4455;\n",
              "      fill: #D2E3FC;\n",
              "    }\n",
              "\n",
              "    [theme=dark] .colab-df-convert:hover {\n",
              "      background-color: #434B5C;\n",
              "      box-shadow: 0px 1px 3px 1px rgba(0, 0, 0, 0.15);\n",
              "      filter: drop-shadow(0px 1px 2px rgba(0, 0, 0, 0.3));\n",
              "      fill: #FFFFFF;\n",
              "    }\n",
              "  </style>\n",
              "\n",
              "      <script>\n",
              "        const buttonEl =\n",
              "          document.querySelector('#df-35e5b7b2-1999-4afe-a808-0a33bc342d9b button.colab-df-convert');\n",
              "        buttonEl.style.display =\n",
              "          google.colab.kernel.accessAllowed ? 'block' : 'none';\n",
              "\n",
              "        async function convertToInteractive(key) {\n",
              "          const element = document.querySelector('#df-35e5b7b2-1999-4afe-a808-0a33bc342d9b');\n",
              "          const dataTable =\n",
              "            await google.colab.kernel.invokeFunction('convertToInteractive',\n",
              "                                                     [key], {});\n",
              "          if (!dataTable) return;\n",
              "\n",
              "          const docLinkHtml = 'Like what you see? Visit the ' +\n",
              "            '<a target=\"_blank\" href=https://colab.research.google.com/notebooks/data_table.ipynb>data table notebook</a>'\n",
              "            + ' to learn more about interactive tables.';\n",
              "          element.innerHTML = '';\n",
              "          dataTable['output_type'] = 'display_data';\n",
              "          await google.colab.output.renderOutput(dataTable, element);\n",
              "          const docLink = document.createElement('div');\n",
              "          docLink.innerHTML = docLinkHtml;\n",
              "          element.appendChild(docLink);\n",
              "        }\n",
              "      </script>\n",
              "    </div>\n",
              "  </div>\n",
              "  "
            ],
            "text/plain": [
              "                          Mountain  ...                                 Location and Notes\n",
              "0                    Mount Everest  ...                                        Nepal/China\n",
              "1                               K2  ...                                     Pakistan/China\n",
              "2                    Kangchenjunga  ...                                        Nepal/India\n",
              "3                           Lhotse  ...  Nepal – Climbers ascend Lhotse Face in climbin...\n",
              "4                           Makalu  ...                                              Nepal\n",
              "5                          Cho Oyu  ...      Nepal – Considered \"easiest\" eight-thousander\n",
              "6                       Dhaulagiri  ...    Nepal – Presumed world's highest from 1808-1838\n",
              "7                          Manaslu  ...                                              Nepal\n",
              "8                     Nanga Parbat  ...                                           Pakistan\n",
              "9                        Annapurna  ...  Nepal – First eight-thousander to be climbed (...\n",
              "10  Gasherbrum I (Hidden peak; K5)  ...              Pakistan /China – Originally named K5\n",
              "11                      Broad Peak  ...                                    Pakistan /China\n",
              "12              Gasherbrum II (K4)  ...               Pakistan/China – Originally named K4\n",
              "13                    Shishapangma  ...                                              China\n",
              "\n",
              "[14 rows x 5 columns]"
            ]
          },
          "metadata": {},
          "execution_count": 18
        }
      ]
    },
    {
      "cell_type": "markdown",
      "source": [
        "##(b) (10 points) Return only mountains in the ‘Himalayas’"
      ],
      "metadata": {
        "id": "dtszxGj58nXn"
      }
    },
    {
      "cell_type": "markdown",
      "source": [
        "I am going to use the `query` method within the pandas dataframe to return only mountains in the Himalayas."
      ],
      "metadata": {
        "id": "wyz5LOUkMEcv"
      }
    },
    {
      "cell_type": "code",
      "source": [
        "df.query('Range == \"Himalayas\"')"
      ],
      "metadata": {
        "colab": {
          "base_uri": "https://localhost:8080/",
          "height": 363
        },
        "id": "uO5kyHT29Qnt",
        "outputId": "c12cf8a3-f1fb-486b-9767-b77f5ff06a13"
      },
      "execution_count": 19,
      "outputs": [
        {
          "output_type": "execute_result",
          "data": {
            "text/html": [
              "\n",
              "  <div id=\"df-0bc12810-8648-4964-b750-9d568a916d08\">\n",
              "    <div class=\"colab-df-container\">\n",
              "      <div>\n",
              "<style scoped>\n",
              "    .dataframe tbody tr th:only-of-type {\n",
              "        vertical-align: middle;\n",
              "    }\n",
              "\n",
              "    .dataframe tbody tr th {\n",
              "        vertical-align: top;\n",
              "    }\n",
              "\n",
              "    .dataframe thead th {\n",
              "        text-align: right;\n",
              "    }\n",
              "</style>\n",
              "<table border=\"1\" class=\"dataframe\">\n",
              "  <thead>\n",
              "    <tr style=\"text-align: right;\">\n",
              "      <th></th>\n",
              "      <th>Mountain</th>\n",
              "      <th>Metres</th>\n",
              "      <th>Feet</th>\n",
              "      <th>Range</th>\n",
              "      <th>Location and Notes</th>\n",
              "    </tr>\n",
              "  </thead>\n",
              "  <tbody>\n",
              "    <tr>\n",
              "      <th>0</th>\n",
              "      <td>Mount Everest</td>\n",
              "      <td>8849</td>\n",
              "      <td>29032</td>\n",
              "      <td>Himalayas</td>\n",
              "      <td>Nepal/China</td>\n",
              "    </tr>\n",
              "    <tr>\n",
              "      <th>2</th>\n",
              "      <td>Kangchenjunga</td>\n",
              "      <td>8586</td>\n",
              "      <td>28169</td>\n",
              "      <td>Himalayas</td>\n",
              "      <td>Nepal/India</td>\n",
              "    </tr>\n",
              "    <tr>\n",
              "      <th>3</th>\n",
              "      <td>Lhotse</td>\n",
              "      <td>8516</td>\n",
              "      <td>27940</td>\n",
              "      <td>Himalayas</td>\n",
              "      <td>Nepal – Climbers ascend Lhotse Face in climbin...</td>\n",
              "    </tr>\n",
              "    <tr>\n",
              "      <th>4</th>\n",
              "      <td>Makalu</td>\n",
              "      <td>8485</td>\n",
              "      <td>27838</td>\n",
              "      <td>Himalayas</td>\n",
              "      <td>Nepal</td>\n",
              "    </tr>\n",
              "    <tr>\n",
              "      <th>5</th>\n",
              "      <td>Cho Oyu</td>\n",
              "      <td>8188</td>\n",
              "      <td>26864</td>\n",
              "      <td>Himalayas</td>\n",
              "      <td>Nepal – Considered \"easiest\" eight-thousander</td>\n",
              "    </tr>\n",
              "    <tr>\n",
              "      <th>6</th>\n",
              "      <td>Dhaulagiri</td>\n",
              "      <td>8167</td>\n",
              "      <td>26795</td>\n",
              "      <td>Himalayas</td>\n",
              "      <td>Nepal – Presumed world's highest from 1808-1838</td>\n",
              "    </tr>\n",
              "    <tr>\n",
              "      <th>7</th>\n",
              "      <td>Manaslu</td>\n",
              "      <td>8163</td>\n",
              "      <td>26781</td>\n",
              "      <td>Himalayas</td>\n",
              "      <td>Nepal</td>\n",
              "    </tr>\n",
              "    <tr>\n",
              "      <th>8</th>\n",
              "      <td>Nanga Parbat</td>\n",
              "      <td>8126</td>\n",
              "      <td>26660</td>\n",
              "      <td>Himalayas</td>\n",
              "      <td>Pakistan</td>\n",
              "    </tr>\n",
              "    <tr>\n",
              "      <th>9</th>\n",
              "      <td>Annapurna</td>\n",
              "      <td>8091</td>\n",
              "      <td>26545</td>\n",
              "      <td>Himalayas</td>\n",
              "      <td>Nepal – First eight-thousander to be climbed (...</td>\n",
              "    </tr>\n",
              "    <tr>\n",
              "      <th>13</th>\n",
              "      <td>Shishapangma</td>\n",
              "      <td>8027</td>\n",
              "      <td>26335</td>\n",
              "      <td>Himalayas</td>\n",
              "      <td>China</td>\n",
              "    </tr>\n",
              "  </tbody>\n",
              "</table>\n",
              "</div>\n",
              "      <button class=\"colab-df-convert\" onclick=\"convertToInteractive('df-0bc12810-8648-4964-b750-9d568a916d08')\"\n",
              "              title=\"Convert this dataframe to an interactive table.\"\n",
              "              style=\"display:none;\">\n",
              "        \n",
              "  <svg xmlns=\"http://www.w3.org/2000/svg\" height=\"24px\"viewBox=\"0 0 24 24\"\n",
              "       width=\"24px\">\n",
              "    <path d=\"M0 0h24v24H0V0z\" fill=\"none\"/>\n",
              "    <path d=\"M18.56 5.44l.94 2.06.94-2.06 2.06-.94-2.06-.94-.94-2.06-.94 2.06-2.06.94zm-11 1L8.5 8.5l.94-2.06 2.06-.94-2.06-.94L8.5 2.5l-.94 2.06-2.06.94zm10 10l.94 2.06.94-2.06 2.06-.94-2.06-.94-.94-2.06-.94 2.06-2.06.94z\"/><path d=\"M17.41 7.96l-1.37-1.37c-.4-.4-.92-.59-1.43-.59-.52 0-1.04.2-1.43.59L10.3 9.45l-7.72 7.72c-.78.78-.78 2.05 0 2.83L4 21.41c.39.39.9.59 1.41.59.51 0 1.02-.2 1.41-.59l7.78-7.78 2.81-2.81c.8-.78.8-2.07 0-2.86zM5.41 20L4 18.59l7.72-7.72 1.47 1.35L5.41 20z\"/>\n",
              "  </svg>\n",
              "      </button>\n",
              "      \n",
              "  <style>\n",
              "    .colab-df-container {\n",
              "      display:flex;\n",
              "      flex-wrap:wrap;\n",
              "      gap: 12px;\n",
              "    }\n",
              "\n",
              "    .colab-df-convert {\n",
              "      background-color: #E8F0FE;\n",
              "      border: none;\n",
              "      border-radius: 50%;\n",
              "      cursor: pointer;\n",
              "      display: none;\n",
              "      fill: #1967D2;\n",
              "      height: 32px;\n",
              "      padding: 0 0 0 0;\n",
              "      width: 32px;\n",
              "    }\n",
              "\n",
              "    .colab-df-convert:hover {\n",
              "      background-color: #E2EBFA;\n",
              "      box-shadow: 0px 1px 2px rgba(60, 64, 67, 0.3), 0px 1px 3px 1px rgba(60, 64, 67, 0.15);\n",
              "      fill: #174EA6;\n",
              "    }\n",
              "\n",
              "    [theme=dark] .colab-df-convert {\n",
              "      background-color: #3B4455;\n",
              "      fill: #D2E3FC;\n",
              "    }\n",
              "\n",
              "    [theme=dark] .colab-df-convert:hover {\n",
              "      background-color: #434B5C;\n",
              "      box-shadow: 0px 1px 3px 1px rgba(0, 0, 0, 0.15);\n",
              "      filter: drop-shadow(0px 1px 2px rgba(0, 0, 0, 0.3));\n",
              "      fill: #FFFFFF;\n",
              "    }\n",
              "  </style>\n",
              "\n",
              "      <script>\n",
              "        const buttonEl =\n",
              "          document.querySelector('#df-0bc12810-8648-4964-b750-9d568a916d08 button.colab-df-convert');\n",
              "        buttonEl.style.display =\n",
              "          google.colab.kernel.accessAllowed ? 'block' : 'none';\n",
              "\n",
              "        async function convertToInteractive(key) {\n",
              "          const element = document.querySelector('#df-0bc12810-8648-4964-b750-9d568a916d08');\n",
              "          const dataTable =\n",
              "            await google.colab.kernel.invokeFunction('convertToInteractive',\n",
              "                                                     [key], {});\n",
              "          if (!dataTable) return;\n",
              "\n",
              "          const docLinkHtml = 'Like what you see? Visit the ' +\n",
              "            '<a target=\"_blank\" href=https://colab.research.google.com/notebooks/data_table.ipynb>data table notebook</a>'\n",
              "            + ' to learn more about interactive tables.';\n",
              "          element.innerHTML = '';\n",
              "          dataTable['output_type'] = 'display_data';\n",
              "          await google.colab.output.renderOutput(dataTable, element);\n",
              "          const docLink = document.createElement('div');\n",
              "          docLink.innerHTML = docLinkHtml;\n",
              "          element.appendChild(docLink);\n",
              "        }\n",
              "      </script>\n",
              "    </div>\n",
              "  </div>\n",
              "  "
            ],
            "text/plain": [
              "         Mountain  ...                                 Location and Notes\n",
              "0   Mount Everest  ...                                        Nepal/China\n",
              "2   Kangchenjunga  ...                                        Nepal/India\n",
              "3          Lhotse  ...  Nepal – Climbers ascend Lhotse Face in climbin...\n",
              "4          Makalu  ...                                              Nepal\n",
              "5         Cho Oyu  ...      Nepal – Considered \"easiest\" eight-thousander\n",
              "6      Dhaulagiri  ...    Nepal – Presumed world's highest from 1808-1838\n",
              "7         Manaslu  ...                                              Nepal\n",
              "8    Nanga Parbat  ...                                           Pakistan\n",
              "9       Annapurna  ...  Nepal – First eight-thousander to be climbed (...\n",
              "13   Shishapangma  ...                                              China\n",
              "\n",
              "[10 rows x 5 columns]"
            ]
          },
          "metadata": {},
          "execution_count": 19
        }
      ]
    },
    {
      "cell_type": "markdown",
      "source": [
        "##(c) (10 points) Create a barchart of the Ranges\n"
      ],
      "metadata": {
        "id": "HVC7JWh0AC9V"
      }
    },
    {
      "cell_type": "markdown",
      "source": [
        " `matplotlib.pyplot` function allows me to create the barchart diagram of the Ranges. I have also used `group by` function to group range."
      ],
      "metadata": {
        "id": "qSCPJhT5RrJi"
      }
    },
    {
      "cell_type": "code",
      "source": [
        "dfg = df.groupby(['Range'])['Range'].count()\n",
        "\n",
        "dfg.plot(kind='bar', title='Mountains', ylabel='number of mountains',\n",
        "         xlabel='ranges', figsize=(6, 5))"
      ],
      "metadata": {
        "colab": {
          "base_uri": "https://localhost:8080/",
          "height": 411
        },
        "id": "_llLJbXN_4rN",
        "outputId": "ccddda9b-12b1-4994-d178-5a59a39d8ab9"
      },
      "execution_count": 23,
      "outputs": [
        {
          "output_type": "execute_result",
          "data": {
            "text/plain": [
              "<matplotlib.axes._subplots.AxesSubplot at 0x7fc388c24310>"
            ]
          },
          "metadata": {},
          "execution_count": 23
        },
        {
          "output_type": "display_data",
          "data": {
            "image/png": "[encoded data removed]",
            "text/plain": [
              "<Figure size 432x360 with 1 Axes>"
            ]
          },
          "metadata": {
            "needs_background": "light"
          }
        }
      ]
    },
    {
      "cell_type": "markdown",
      "source": [
        "##(d) (10 points) Create a box-plot of the height in Feet  "
      ],
      "metadata": {
        "id": "XiEoHedvAqYs"
      }
    },
    {
      "cell_type": "markdown",
      "source": [
        "`matplotib.pyplot` also allows me to create a box-plot"
      ],
      "metadata": {
        "id": "z28yeA93okF6"
      }
    },
    {
      "cell_type": "code",
      "source": [
        "df.Feet.plot(kind = 'box')"
      ],
      "metadata": {
        "colab": {
          "base_uri": "https://localhost:8080/",
          "height": 282
        },
        "id": "2KLA_5keCG3_",
        "outputId": "3fa7f9ab-5b28-4e1e-e54d-a65b78f6c70a"
      },
      "execution_count": 24,
      "outputs": [
        {
          "output_type": "execute_result",
          "data": {
            "text/plain": [
              "<matplotlib.axes._subplots.AxesSubplot at 0x7fc388bf7810>"
            ]
          },
          "metadata": {},
          "execution_count": 24
        },
        {
          "output_type": "display_data",
          "data": {
            "image/png": "[encoded data removed]",
            "text/plain": [
              "<Figure size 432x288 with 1 Axes>"
            ]
          },
          "metadata": {
            "needs_background": "light"
          }
        }
      ]
    },
    {
      "cell_type": "markdown",
      "source": [
        "##(e) (10 points) Report the mean, standard deviation and five number summary of the height in Feet "
      ],
      "metadata": {
        "id": "-OTv70G4CfFO"
      }
    },
    {
      "cell_type": "markdown",
      "source": [
        "The `describe()` method helps us compute and preview the calculation of statistics in python dataframe."
      ],
      "metadata": {
        "id": "qeDfOpzQxOO9"
      }
    },
    {
      "cell_type": "code",
      "source": [
        "df.Feet.describe()"
      ],
      "metadata": {
        "colab": {
          "base_uri": "https://localhost:8080/"
        },
        "id": "S25pLOwGCbwm",
        "outputId": "9e0cbb8f-a5cf-4ea9-8289-74ba4a5b6d43"
      },
      "execution_count": 25,
      "outputs": [
        {
          "output_type": "execute_result",
          "data": {
            "text/plain": [
              "count       14.000000\n",
              "mean     27178.214286\n",
              "std        879.975452\n",
              "min      26335.000000\n",
              "25%      26518.000000\n",
              "50%      26788.000000\n",
              "75%      27914.500000\n",
              "max      29032.000000\n",
              "Name: Feet, dtype: float64"
            ]
          },
          "metadata": {},
          "execution_count": 25
        }
      ]
    },
    {
      "cell_type": "markdown",
      "source": [
        "\n",
        " ## (f) (10 points) Report the mean and median of mountains when grouped by their Range.  "
      ],
      "metadata": {
        "id": "3_FkUutY8R_l"
      }
    },
    {
      "cell_type": "markdown",
      "source": [
        "I will use the `describe()` function to calculate the statistics. For that I will use the functions `mean()` and `median()` in our dataframe. After that, `tabulate` represents the dataset in tabular form."
      ],
      "metadata": {
        "id": "kz4fshoOyNE6"
      }
    },
    {
      "cell_type": "code",
      "execution_count": null,
      "metadata": {
        "id": "hbfHWdf-oKc0"
      },
      "outputs": [],
      "source": [
        "mean = df.groupby('Range').mean()\n",
        "median = df.groupby('Range').median()\n",
        "\n",
        "print(tabulate(mean, headers=[\"Range\", \"Meters_mean\", \"Feet_mean\"], tablefmt=\"psql\"))\n",
        "\n",
        "print(tabulate(median, headers=[\"Range\", \"Meters_median\", \"Feet_median\"], tablefmt=\"psql\"))"
      ]
    },
    {
      "cell_type": "markdown",
      "source": [
        "#2. Use BigQuery public dataset ‘chicago taxi trips.taxi trips’ using the Colab and SQL interface.\n",
        "##(a) (10 points) How many rows are in the dataset?\n"
      ],
      "metadata": {
        "id": "SygWUENWFIWr"
      }
    },
    {
      "cell_type": "markdown",
      "source": [
        "Using count to get the total number of rows in the `Chicago taxi trips.taxi trips` data set."
      ],
      "metadata": {
        "id": "Z2a1DnWxzbmk"
      }
    },
    {
      "cell_type": "code",
      "source": [
        "%%bigquery --project bustling-cosmos-338722\n",
        "SELECT COUNT(*) as total_rows\n",
        "FROM `bigquery-public-data.chicago_taxi_trips.taxi_trips` "
      ],
      "metadata": {
        "colab": {
          "base_uri": "https://localhost:8080/",
          "height": 81
        },
        "id": "ugMNJ6xaFeTy",
        "outputId": "20d2664a-09a1-411a-9a8d-75d1ee1b38c7"
      },
      "execution_count": 26,
      "outputs": [
        {
          "output_type": "execute_result",
          "data": {
            "text/html": [
              "\n",
              "  <div id=\"df-55bed987-6395-41a7-b871-652e69465411\">\n",
              "    <div class=\"colab-df-container\">\n",
              "      <div>\n",
              "<style scoped>\n",
              "    .dataframe tbody tr th:only-of-type {\n",
              "        vertical-align: middle;\n",
              "    }\n",
              "\n",
              "    .dataframe tbody tr th {\n",
              "        vertical-align: top;\n",
              "    }\n",
              "\n",
              "    .dataframe thead th {\n",
              "        text-align: right;\n",
              "    }\n",
              "</style>\n",
              "<table border=\"1\" class=\"dataframe\">\n",
              "  <thead>\n",
              "    <tr style=\"text-align: right;\">\n",
              "      <th></th>\n",
              "      <th>total_rows</th>\n",
              "    </tr>\n",
              "  </thead>\n",
              "  <tbody>\n",
              "    <tr>\n",
              "      <th>0</th>\n",
              "      <td>198792903</td>\n",
              "    </tr>\n",
              "  </tbody>\n",
              "</table>\n",
              "</div>\n",
              "      <button class=\"colab-df-convert\" onclick=\"convertToInteractive('df-55bed987-6395-41a7-b871-652e69465411')\"\n",
              "              title=\"Convert this dataframe to an interactive table.\"\n",
              "              style=\"display:none;\">\n",
              "        \n",
              "  <svg xmlns=\"http://www.w3.org/2000/svg\" height=\"24px\"viewBox=\"0 0 24 24\"\n",
              "       width=\"24px\">\n",
              "    <path d=\"M0 0h24v24H0V0z\" fill=\"none\"/>\n",
              "    <path d=\"M18.56 5.44l.94 2.06.94-2.06 2.06-.94-2.06-.94-.94-2.06-.94 2.06-2.06.94zm-11 1L8.5 8.5l.94-2.06 2.06-.94-2.06-.94L8.5 2.5l-.94 2.06-2.06.94zm10 10l.94 2.06.94-2.06 2.06-.94-2.06-.94-.94-2.06-.94 2.06-2.06.94z\"/><path d=\"M17.41 7.96l-1.37-1.37c-.4-.4-.92-.59-1.43-.59-.52 0-1.04.2-1.43.59L10.3 9.45l-7.72 7.72c-.78.78-.78 2.05 0 2.83L4 21.41c.39.39.9.59 1.41.59.51 0 1.02-.2 1.41-.59l7.78-7.78 2.81-2.81c.8-.78.8-2.07 0-2.86zM5.41 20L4 18.59l7.72-7.72 1.47 1.35L5.41 20z\"/>\n",
              "  </svg>\n",
              "      </button>\n",
              "      \n",
              "  <style>\n",
              "    .colab-df-container {\n",
              "      display:flex;\n",
              "      flex-wrap:wrap;\n",
              "      gap: 12px;\n",
              "    }\n",
              "\n",
              "    .colab-df-convert {\n",
              "      background-color: #E8F0FE;\n",
              "      border: none;\n",
              "      border-radius: 50%;\n",
              "      cursor: pointer;\n",
              "      display: none;\n",
              "      fill: #1967D2;\n",
              "      height: 32px;\n",
              "      padding: 0 0 0 0;\n",
              "      width: 32px;\n",
              "    }\n",
              "\n",
              "    .colab-df-convert:hover {\n",
              "      background-color: #E2EBFA;\n",
              "      box-shadow: 0px 1px 2px rgba(60, 64, 67, 0.3), 0px 1px 3px 1px rgba(60, 64, 67, 0.15);\n",
              "      fill: #174EA6;\n",
              "    }\n",
              "\n",
              "    [theme=dark] .colab-df-convert {\n",
              "      background-color: #3B4455;\n",
              "      fill: #D2E3FC;\n",
              "    }\n",
              "\n",
              "    [theme=dark] .colab-df-convert:hover {\n",
              "      background-color: #434B5C;\n",
              "      box-shadow: 0px 1px 3px 1px rgba(0, 0, 0, 0.15);\n",
              "      filter: drop-shadow(0px 1px 2px rgba(0, 0, 0, 0.3));\n",
              "      fill: #FFFFFF;\n",
              "    }\n",
              "  </style>\n",
              "\n",
              "      <script>\n",
              "        const buttonEl =\n",
              "          document.querySelector('#df-55bed987-6395-41a7-b871-652e69465411 button.colab-df-convert');\n",
              "        buttonEl.style.display =\n",
              "          google.colab.kernel.accessAllowed ? 'block' : 'none';\n",
              "\n",
              "        async function convertToInteractive(key) {\n",
              "          const element = document.querySelector('#df-55bed987-6395-41a7-b871-652e69465411');\n",
              "          const dataTable =\n",
              "            await google.colab.kernel.invokeFunction('convertToInteractive',\n",
              "                                                     [key], {});\n",
              "          if (!dataTable) return;\n",
              "\n",
              "          const docLinkHtml = 'Like what you see? Visit the ' +\n",
              "            '<a target=\"_blank\" href=https://colab.research.google.com/notebooks/data_table.ipynb>data table notebook</a>'\n",
              "            + ' to learn more about interactive tables.';\n",
              "          element.innerHTML = '';\n",
              "          dataTable['output_type'] = 'display_data';\n",
              "          await google.colab.output.renderOutput(dataTable, element);\n",
              "          const docLink = document.createElement('div');\n",
              "          docLink.innerHTML = docLinkHtml;\n",
              "          element.appendChild(docLink);\n",
              "        }\n",
              "      </script>\n",
              "    </div>\n",
              "  </div>\n",
              "  "
            ],
            "text/plain": [
              "   total_rows\n",
              "0   198792903"
            ]
          },
          "metadata": {},
          "execution_count": 26
        }
      ]
    },
    {
      "cell_type": "markdown",
      "source": [
        "Displaying the data set to get familiar with the information available in the data. I do not want to see the whole data set so I am limiting the number of rows by 5."
      ],
      "metadata": {
        "id": "FzhJzhAyzy_N"
      }
    },
    {
      "cell_type": "code",
      "source": [
        "%%bigquery --project bustling-cosmos-338722 \n",
        "SELECT *\n",
        "FROM `bigquery-public-data.chicago_taxi_trips.taxi_trips`\n",
        "LIMIT 5"
      ],
      "metadata": {
        "colab": {
          "base_uri": "https://localhost:8080/",
          "height": 357
        },
        "id": "hPOHh_TOLrss",
        "outputId": "5cb6b288-801e-4340-b48d-f9151730a966"
      },
      "execution_count": 28,
      "outputs": [
        {
          "output_type": "execute_result",
          "data": {
            "text/html": [
              "\n",
              "  <div id=\"df-0cd93159-0c85-468c-8af3-283064158591\">\n",
              "    <div class=\"colab-df-container\">\n",
              "      <div>\n",
              "<style scoped>\n",
              "    .dataframe tbody tr th:only-of-type {\n",
              "        vertical-align: middle;\n",
              "    }\n",
              "\n",
              "    .dataframe tbody tr th {\n",
              "        vertical-align: top;\n",
              "    }\n",
              "\n",
              "    .dataframe thead th {\n",
              "        text-align: right;\n",
              "    }\n",
              "</style>\n",
              "<table border=\"1\" class=\"dataframe\">\n",
              "  <thead>\n",
              "    <tr style=\"text-align: right;\">\n",
              "      <th></th>\n",
              "      <th>unique_key</th>\n",
              "      <th>taxi_id</th>\n",
              "      <th>trip_start_timestamp</th>\n",
              "      <th>trip_end_timestamp</th>\n",
              "      <th>trip_seconds</th>\n",
              "      <th>trip_miles</th>\n",
              "      <th>pickup_census_tract</th>\n",
              "      <th>dropoff_census_tract</th>\n",
              "      <th>pickup_community_area</th>\n",
              "      <th>dropoff_community_area</th>\n",
              "      <th>fare</th>\n",
              "      <th>tips</th>\n",
              "      <th>tolls</th>\n",
              "      <th>extras</th>\n",
              "      <th>trip_total</th>\n",
              "      <th>payment_type</th>\n",
              "      <th>company</th>\n",
              "      <th>pickup_latitude</th>\n",
              "      <th>pickup_longitude</th>\n",
              "      <th>pickup_location</th>\n",
              "      <th>dropoff_latitude</th>\n",
              "      <th>dropoff_longitude</th>\n",
              "      <th>dropoff_location</th>\n",
              "    </tr>\n",
              "  </thead>\n",
              "  <tbody>\n",
              "    <tr>\n",
              "      <th>0</th>\n",
              "      <td>c495cb9fc73dc8e3842305042d469fb7d445b550</td>\n",
              "      <td>90bce85c296fc2baf956779a18b99da6d0227abacd2e8d...</td>\n",
              "      <td>2018-05-13 19:00:00+00:00</td>\n",
              "      <td>2018-05-13 19:45:00+00:00</td>\n",
              "      <td>2580</td>\n",
              "      <td>13.2</td>\n",
              "      <td>None</td>\n",
              "      <td>None</td>\n",
              "      <td>None</td>\n",
              "      <td>None</td>\n",
              "      <td>35.25</td>\n",
              "      <td>6.0</td>\n",
              "      <td>0.0</td>\n",
              "      <td>5.0</td>\n",
              "      <td>46.75</td>\n",
              "      <td>Credit Card</td>\n",
              "      <td>Sun Taxi</td>\n",
              "      <td>None</td>\n",
              "      <td>None</td>\n",
              "      <td>None</td>\n",
              "      <td>None</td>\n",
              "      <td>None</td>\n",
              "      <td>None</td>\n",
              "    </tr>\n",
              "    <tr>\n",
              "      <th>1</th>\n",
              "      <td>1d793bffc96f53bb5ce0a9655a7d5653cfdc31dd</td>\n",
              "      <td>90bce85c296fc2baf956779a18b99da6d0227abacd2e8d...</td>\n",
              "      <td>2018-05-13 21:30:00+00:00</td>\n",
              "      <td>2018-05-13 22:00:00+00:00</td>\n",
              "      <td>1680</td>\n",
              "      <td>20.2</td>\n",
              "      <td>None</td>\n",
              "      <td>None</td>\n",
              "      <td>None</td>\n",
              "      <td>None</td>\n",
              "      <td>50.00</td>\n",
              "      <td>16.6</td>\n",
              "      <td>0.0</td>\n",
              "      <td>33.0</td>\n",
              "      <td>100.10</td>\n",
              "      <td>Credit Card</td>\n",
              "      <td>Sun Taxi</td>\n",
              "      <td>None</td>\n",
              "      <td>None</td>\n",
              "      <td>None</td>\n",
              "      <td>None</td>\n",
              "      <td>None</td>\n",
              "      <td>None</td>\n",
              "    </tr>\n",
              "    <tr>\n",
              "      <th>2</th>\n",
              "      <td>caa03c09b2b3a6e0d0527b2256b017f719aa26b5</td>\n",
              "      <td>90bce85c296fc2baf956779a18b99da6d0227abacd2e8d...</td>\n",
              "      <td>2018-05-13 22:00:00+00:00</td>\n",
              "      <td>2018-05-13 22:30:00+00:00</td>\n",
              "      <td>1920</td>\n",
              "      <td>19.9</td>\n",
              "      <td>None</td>\n",
              "      <td>None</td>\n",
              "      <td>None</td>\n",
              "      <td>None</td>\n",
              "      <td>50.00</td>\n",
              "      <td>0.0</td>\n",
              "      <td>0.0</td>\n",
              "      <td>0.0</td>\n",
              "      <td>50.00</td>\n",
              "      <td>Cash</td>\n",
              "      <td>Sun Taxi</td>\n",
              "      <td>None</td>\n",
              "      <td>None</td>\n",
              "      <td>None</td>\n",
              "      <td>None</td>\n",
              "      <td>None</td>\n",
              "      <td>None</td>\n",
              "    </tr>\n",
              "    <tr>\n",
              "      <th>3</th>\n",
              "      <td>840d21c9086d4e4c2c48f3a56a9dd9402bb525f3</td>\n",
              "      <td>90bce85c296fc2baf956779a18b99da6d0227abacd2e8d...</td>\n",
              "      <td>2018-05-14 00:45:00+00:00</td>\n",
              "      <td>2018-05-14 01:00:00+00:00</td>\n",
              "      <td>900</td>\n",
              "      <td>9.3</td>\n",
              "      <td>None</td>\n",
              "      <td>None</td>\n",
              "      <td>None</td>\n",
              "      <td>None</td>\n",
              "      <td>25.00</td>\n",
              "      <td>3.0</td>\n",
              "      <td>0.0</td>\n",
              "      <td>5.0</td>\n",
              "      <td>33.50</td>\n",
              "      <td>Credit Card</td>\n",
              "      <td>Sun Taxi</td>\n",
              "      <td>None</td>\n",
              "      <td>None</td>\n",
              "      <td>None</td>\n",
              "      <td>None</td>\n",
              "      <td>None</td>\n",
              "      <td>None</td>\n",
              "    </tr>\n",
              "    <tr>\n",
              "      <th>4</th>\n",
              "      <td>01393b9954dd55ee4748263bc4b1e7cc6d63a194</td>\n",
              "      <td>90bce85c296fc2baf956779a18b99da6d0227abacd2e8d...</td>\n",
              "      <td>2018-05-14 01:00:00+00:00</td>\n",
              "      <td>2018-05-14 01:45:00+00:00</td>\n",
              "      <td>2220</td>\n",
              "      <td>20.4</td>\n",
              "      <td>None</td>\n",
              "      <td>None</td>\n",
              "      <td>None</td>\n",
              "      <td>None</td>\n",
              "      <td>51.00</td>\n",
              "      <td>0.0</td>\n",
              "      <td>0.0</td>\n",
              "      <td>0.0</td>\n",
              "      <td>51.00</td>\n",
              "      <td>Cash</td>\n",
              "      <td>Sun Taxi</td>\n",
              "      <td>None</td>\n",
              "      <td>None</td>\n",
              "      <td>None</td>\n",
              "      <td>None</td>\n",
              "      <td>None</td>\n",
              "      <td>None</td>\n",
              "    </tr>\n",
              "  </tbody>\n",
              "</table>\n",
              "</div>\n",
              "      <button class=\"colab-df-convert\" onclick=\"convertToInteractive('df-0cd93159-0c85-468c-8af3-283064158591')\"\n",
              "              title=\"Convert this dataframe to an interactive table.\"\n",
              "              style=\"display:none;\">\n",
              "        \n",
              "  <svg xmlns=\"http://www.w3.org/2000/svg\" height=\"24px\"viewBox=\"0 0 24 24\"\n",
              "       width=\"24px\">\n",
              "    <path d=\"M0 0h24v24H0V0z\" fill=\"none\"/>\n",
              "    <path d=\"M18.56 5.44l.94 2.06.94-2.06 2.06-.94-2.06-.94-.94-2.06-.94 2.06-2.06.94zm-11 1L8.5 8.5l.94-2.06 2.06-.94-2.06-.94L8.5 2.5l-.94 2.06-2.06.94zm10 10l.94 2.06.94-2.06 2.06-.94-2.06-.94-.94-2.06-.94 2.06-2.06.94z\"/><path d=\"M17.41 7.96l-1.37-1.37c-.4-.4-.92-.59-1.43-.59-.52 0-1.04.2-1.43.59L10.3 9.45l-7.72 7.72c-.78.78-.78 2.05 0 2.83L4 21.41c.39.39.9.59 1.41.59.51 0 1.02-.2 1.41-.59l7.78-7.78 2.81-2.81c.8-.78.8-2.07 0-2.86zM5.41 20L4 18.59l7.72-7.72 1.47 1.35L5.41 20z\"/>\n",
              "  </svg>\n",
              "      </button>\n",
              "      \n",
              "  <style>\n",
              "    .colab-df-container {\n",
              "      display:flex;\n",
              "      flex-wrap:wrap;\n",
              "      gap: 12px;\n",
              "    }\n",
              "\n",
              "    .colab-df-convert {\n",
              "      background-color: #E8F0FE;\n",
              "      border: none;\n",
              "      border-radius: 50%;\n",
              "      cursor: pointer;\n",
              "      display: none;\n",
              "      fill: #1967D2;\n",
              "      height: 32px;\n",
              "      padding: 0 0 0 0;\n",
              "      width: 32px;\n",
              "    }\n",
              "\n",
              "    .colab-df-convert:hover {\n",
              "      background-color: #E2EBFA;\n",
              "      box-shadow: 0px 1px 2px rgba(60, 64, 67, 0.3), 0px 1px 3px 1px rgba(60, 64, 67, 0.15);\n",
              "      fill: #174EA6;\n",
              "    }\n",
              "\n",
              "    [theme=dark] .colab-df-convert {\n",
              "      background-color: #3B4455;\n",
              "      fill: #D2E3FC;\n",
              "    }\n",
              "\n",
              "    [theme=dark] .colab-df-convert:hover {\n",
              "      background-color: #434B5C;\n",
              "      box-shadow: 0px 1px 3px 1px rgba(0, 0, 0, 0.15);\n",
              "      filter: drop-shadow(0px 1px 2px rgba(0, 0, 0, 0.3));\n",
              "      fill: #FFFFFF;\n",
              "    }\n",
              "  </style>\n",
              "\n",
              "      <script>\n",
              "        const buttonEl =\n",
              "          document.querySelector('#df-0cd93159-0c85-468c-8af3-283064158591 button.colab-df-convert');\n",
              "        buttonEl.style.display =\n",
              "          google.colab.kernel.accessAllowed ? 'block' : 'none';\n",
              "\n",
              "        async function convertToInteractive(key) {\n",
              "          const element = document.querySelector('#df-0cd93159-0c85-468c-8af3-283064158591');\n",
              "          const dataTable =\n",
              "            await google.colab.kernel.invokeFunction('convertToInteractive',\n",
              "                                                     [key], {});\n",
              "          if (!dataTable) return;\n",
              "\n",
              "          const docLinkHtml = 'Like what you see? Visit the ' +\n",
              "            '<a target=\"_blank\" href=https://colab.research.google.com/notebooks/data_table.ipynb>data table notebook</a>'\n",
              "            + ' to learn more about interactive tables.';\n",
              "          element.innerHTML = '';\n",
              "          dataTable['output_type'] = 'display_data';\n",
              "          await google.colab.output.renderOutput(dataTable, element);\n",
              "          const docLink = document.createElement('div');\n",
              "          docLink.innerHTML = docLinkHtml;\n",
              "          element.appendChild(docLink);\n",
              "        }\n",
              "      </script>\n",
              "    </div>\n",
              "  </div>\n",
              "  "
            ],
            "text/plain": [
              "                                 unique_key  ... dropoff_location\n",
              "0  c495cb9fc73dc8e3842305042d469fb7d445b550  ...             None\n",
              "1  1d793bffc96f53bb5ce0a9655a7d5653cfdc31dd  ...             None\n",
              "2  caa03c09b2b3a6e0d0527b2256b017f719aa26b5  ...             None\n",
              "3  840d21c9086d4e4c2c48f3a56a9dd9402bb525f3  ...             None\n",
              "4  01393b9954dd55ee4748263bc4b1e7cc6d63a194  ...             None\n",
              "\n",
              "[5 rows x 23 columns]"
            ]
          },
          "metadata": {},
          "execution_count": 28
        }
      ]
    },
    {
      "cell_type": "markdown",
      "source": [
        "##(b) (10 points) What is the average trip total based on payment type?"
      ],
      "metadata": {
        "id": "kO9XO-QxLZM8"
      }
    },
    {
      "cell_type": "code",
      "source": [
        "%%bigquery --project bustling-cosmos-338722\n",
        "SELECT payment_type as payment_type, AVG(trip_total) as avg_trips\n",
        "FROM `bigquery-public-data.chicago_taxi_trips.taxi_trips`\n",
        "GROUP BY payment_type"
      ],
      "metadata": {
        "id": "9rnQLuWDLdl9"
      },
      "execution_count": null,
      "outputs": []
    },
    {
      "cell_type": "markdown",
      "source": [
        "## (c) (10 points) How many trips, that had a non-zero recorded time, were above the average time?"
      ],
      "metadata": {
        "id": "5BerxufxFNK3"
      }
    },
    {
      "cell_type": "code",
      "source": [
        "%%bigquery --project bustling-cosmos-338722\n",
        "SELECT COUNT(*) as nonZero_trips_above_avg_time\n",
        "FROM `bigquery-public-data.chicago_taxi_trips.taxi_trips`\n",
        "WHERE trip_seconds != 0 AND trip_seconds > (SELECT AVG(trip_seconds) as avg_time FROM `bigquery-public-data.chicago_taxi_trips.taxi_trips`)"
      ],
      "metadata": {
        "id": "xtM08RO5M-YH"
      },
      "execution_count": null,
      "outputs": []
    },
    {
      "cell_type": "markdown",
      "source": [
        "#3. (10 points) Questions about the exam\n",
        "\n",
        "(a) Approximately how long did you work on this exam?\n",
        "= I completed the exam on multiple sitting so I was totally unaware about the time. I'm guessing I spent about 2 hours to complete the exam.\n",
        "\n",
        "(b) Which was the hardest and easiest topic from this section?\n",
        "= The easiest topic I found was to work with biqquerry public data set from question number 2 a, and b however it was hard on the third question which wat to find `How many trips, that had a non-zero recorded time, were above the average time?` but I managed to get it done by collaborating with my class mate and some google search.\n",
        "\n",
        "(c) Which method of gathering data are you most excited to use again\n",
        "= I am most excited about web scrapping and SQL."
      ],
      "metadata": {
        "id": "TiwMoT74OJUN"
      }
    },
    {
      "cell_type": "markdown",
      "source": [
        "#Work Cited\n",
        "https://github.com/nurfnick/Data_Viz\n",
        "\n",
        "\n",
        "I attest that the resources above were the only ones utilized in completing the exam and the work included is my own and no one else from the course."
      ],
      "metadata": {
        "id": "Y8zp9TvCEh11"
      }
    }
  ]
}