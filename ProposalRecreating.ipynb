{
  "nbformat": 4,
  "nbformat_minor": 0,
  "metadata": {
    "colab": {
      "name": "ProposalRecreating.ipynb",
      "provenance": [],
      "authorship_tag": "ABX9TyN3MQuD8ZWtgqxRy/tDNcZQ",
      "include_colab_link": true
    },
    "kernelspec": {
      "name": "python3",
      "display_name": "Python 3"
    },
    "language_info": {
      "name": "python"
    }
  },
  "cells": [
    {
      "cell_type": "markdown",
      "metadata": {
        "id": "view-in-github",
        "colab_type": "text"
      },
      "source": [
        "<a href=\"https://colab.research.google.com/github/Nissun662/Data-Visual/blob/main/ProposalRecreating.ipynb\" target=\"_parent\"><img src=\"https://colab.research.google.com/assets/colab-badge.svg\" alt=\"Open In Colab\"/></a>"
      ]
    },
    {
      "cell_type": "markdown",
      "source": [
        "#Project Recreating the Master\n",
        "#Data Processing ad Visualization\n",
        "##Nishan Sunar\n",
        "250662"
      ],
      "metadata": {
        "id": "g82XvGry_eO3"
      }
    },
    {
      "cell_type": "markdown",
      "source": [
        "The topic that I have selected for Recreating the Masters is the chart(bar/barh) on the top 10 fastest land animals. "
      ],
      "metadata": {
        "id": "QcHBf-d6KWE9"
      }
    },
    {
      "cell_type": "markdown",
      "source": [
        "#[Top 10 Fastest Land Animals](https://www.grandviewoutdoors.com/gear/hunting/worlds-top-10-fastest-land-mammals)\n",
        "\n",
        "![](https://www.grandviewoutdoors.com/uploads/wp-content/2017/02/Fastest-Mammals-chart2.jpg)"
      ],
      "metadata": {
        "id": "wZoVsUu4HoLZ"
      }
    }
  ]
}