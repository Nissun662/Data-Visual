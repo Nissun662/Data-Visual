{
  "nbformat": 4,
  "nbformat_minor": 0,
  "metadata": {
    "colab": {
      "name": "ProposalRecreating.ipynb",
      "provenance": [],
      "authorship_tag": "ABX9TyMEfS7wm7DpBCcrbBptbU5h",
      "include_colab_link": true
    },
    "kernelspec": {
      "name": "python3",
      "display_name": "Python 3"
    },
    "language_info": {
      "name": "python"
    }
  },
  "cells": [
    {
      "cell_type": "markdown",
      "metadata": {
        "id": "view-in-github",
        "colab_type": "text"
      },
      "source": [
        "<a href=\"https://colab.research.google.com/github/Nissun662/Data-Visual/blob/main/ProposalRecreating.ipynb\" target=\"_parent\"><img src=\"https://colab.research.google.com/assets/colab-badge.svg\" alt=\"Open In Colab\"/></a>"
      ]
    },
    {
      "cell_type": "markdown",
      "source": [
        "#Project Recreating the Master\n",
        "#Data Processing ad Visualization\n",
        "##Nishan Sunar\n",
        "250662"
      ],
      "metadata": {
        "id": "g82XvGry_eO3"
      }
    },
    {
      "cell_type": "markdown",
      "source": [
        "The topic that I have selected for Recreating the Masters is the chart(bar/barh) on the top 10 fastest land animals. \n",
        "\n",
        "The visualization link is https://www.grandviewoutdoors.com/gear/hunting/worlds-top-10-fastest-land-mammals\n",
        "\n",
        "\n"
      ],
      "metadata": {
        "id": "QcHBf-d6KWE9"
      }
    },
    {
      "cell_type": "markdown",
      "source": [
        "#[Top 10 Fastest Land Animals](https://www.grandviewoutdoors.com/gear/hunting/worlds-top-10-fastest-land-mammals)\n",
        "\n",
        "![](https://www.grandviewoutdoors.com/uploads/wp-content/2017/02/Fastest-Mammals-chart2.jpg)"
      ],
      "metadata": {
        "id": "wZoVsUu4HoLZ"
      }
    },
    {
      "cell_type": "markdown",
      "source": [
        "The visualization I chose represents the top 10 fastest land mammals and it displays the name of the animal and their top speed in a barh diagram. It is easily understandable by any viewers to find out what animal runs at what speed. I am still looking for a reliable data set to work with so I have not disclosed the dataset link here.\n",
        "\n",
        "The only down side is not disclosing the name of the second last one. I will disclose the name of that animal while recreating the visual.\n",
        "\n",
        "The most hard part for me while recreating the above visualization will be putting the image of the corresponding animals right next to the barh.\n",
        "\n"
      ],
      "metadata": {
        "id": "m0XtTzaK1tgZ"
      }
    },
    {
      "cell_type": "code",
      "source": [
        ""
      ],
      "metadata": {
        "id": "QwEsA2Sk3LMv"
      },
      "execution_count": null,
      "outputs": []
    }
  ]
}