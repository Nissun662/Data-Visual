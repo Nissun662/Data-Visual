{
  "nbformat": 4,
  "nbformat_minor": 0,
  "metadata": {
    "colab": {
      "name": "Quiz23.ipynb",
      "provenance": [],
      "authorship_tag": "ABX9TyPOERzRHlPm5q37miibO44m",
      "include_colab_link": true
    },
    "kernelspec": {
      "name": "python3",
      "display_name": "Python 3"
    },
    "language_info": {
      "name": "python"
    }
  },
  "cells": [
    {
      "cell_type": "markdown",
      "metadata": {
        "id": "view-in-github",
        "colab_type": "text"
      },
      "source": [
        "<a href=\"https://colab.research.google.com/github/Nissun662/Data-Visual/blob/main/Quiz23.ipynb\" target=\"_parent\"><img src=\"https://colab.research.google.com/assets/colab-badge.svg\" alt=\"Open In Colab\"/></a>"
      ]
    },
    {
      "cell_type": "markdown",
      "source": [
        "#Data Processing and Visualization\n",
        "##Nishan Sunar\n",
        "\n",
        "250662"
      ],
      "metadata": {
        "id": "B_bRJXsVfmoM"
      }
    },
    {
      "cell_type": "markdown",
      "source": [
        "#Today's Assignment:\n",
        "Find two charts that were not discussed during class today and examine them for graphical excellence, sophistication and integrity. You should write about 100 words about each graph and include the image and a link to where it can be found."
      ],
      "metadata": {
        "id": "DOiAzG42fwpN"
      }
    },
    {
      "cell_type": "markdown",
      "source": [
        "[Removing feeding tube Vote](https://www.statisticshowto.com/probability-and-statistics/descriptive-statistics/misleading-graphs/)\n",
        "\n",
        "![](https://www.statisticshowto.com/wp-content/uploads/2014/01/terry-schiavo-misleading-graph.jpg)\n",
        "\n",
        "\n",
        "\n",
        "In the barchart above, the viewer of this graph gets easily mislead regarding the voting result by the democrats, republican and the independent political party to support the removing of feeding tube. At a glace, we can see that the democrats supported the action almost by double when you compare it with the republicans and the independent party, however, if we take a closer look, there is only 8% difference between democrats vote (62%) and the other two(52%). The vertical axix starts at 50 which should actually start at a zero. This is one of the perfect example showing the bad representation of data in a bargraph."
      ],
      "metadata": {
        "id": "V8wmcp97FtBs"
      }
    },
    {
      "cell_type": "markdown",
      "source": [
        "[Interest rates](https://www.datapine.com/blog/misleading-data-visualization-examples/)\n",
        "\n",
        "![](https://www.datapine.com/blog/wp-content/uploads/2014/06/Same-Data-Different-Y-Axis-Data-Visualization-Designed-to-Mislead.png)\n",
        "\n",
        "\n",
        "I was able to pick this image from the Datapine site. Here in this example we can see the same amount of information but in much different prespective. One of the bargraph on the left seeems to me more organized in scale basis compared to the one on the right. The datasets representing minor difference between each other must be represented in appropriate scale. As the interest rates from differnt lenders vary but the difference is minimal and to show such minimal difference in a precised manner the decimal places after 3 has been broken down into minor sections. But in the graph on the right all the interest rates looks the same and it is misleading. "
      ],
      "metadata": {
        "id": "uj7OkwZtU3TW"
      }
    },
    {
      "cell_type": "code",
      "source": [
        ""
      ],
      "metadata": {
        "id": "hics4wCGI-Az"
      },
      "execution_count": null,
      "outputs": []
    }
  ]
}