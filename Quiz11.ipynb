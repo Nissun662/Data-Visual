{
  "nbformat": 4,
  "nbformat_minor": 0,
  "metadata": {
    "colab": {
      "name": "Quiz11.ipynb",
      "provenance": [],
      "authorship_tag": "ABX9TyOsHsOE4lMPgFMRFUAUsBBC",
      "include_colab_link": true
    },
    "kernelspec": {
      "name": "python3",
      "display_name": "Python 3"
    },
    "language_info": {
      "name": "python"
    }
  },
  "cells": [
    {
      "cell_type": "markdown",
      "metadata": {
        "id": "view-in-github",
        "colab_type": "text"
      },
      "source": [
        "<a href=\"https://colab.research.google.com/github/Nissun662/Data-Visual/blob/main/Quiz11.ipynb\" target=\"_parent\"><img src=\"https://colab.research.google.com/assets/colab-badge.svg\" alt=\"Open In Colab\"/></a>"
      ]
    },
    {
      "cell_type": "markdown",
      "source": [
        "#Data Processing and Visualization\n",
        "##Nishan Sunar\n",
        "250662"
      ],
      "metadata": {
        "id": "ljNyyCZVl29p"
      }
    },
    {
      "cell_type": "markdown",
      "source": [
        "#Today's Assignment: \n",
        "Using either the math_cs credentials or your own;\n",
        "\n",
        "1. Get authenticated to twitter.\n",
        "2. Find the top trending 10 topics in the world and display them by name\n",
        "3. Search for your favorite show, actor, sports team or player and see what twitter is saying about them."
      ],
      "metadata": {
        "id": "DMxb9uCxl_t-"
      }
    },
    {
      "cell_type": "markdown",
      "source": [
        "Tweepy is a python library which access twitter API to get all the data from twitter itself. pip install tweepy will install library in our system."
      ],
      "metadata": {
        "id": "FXbpwueIm9VL"
      }
    },
    {
      "cell_type": "code",
      "source": [
        "!pip install twitter"
      ],
      "metadata": {
        "colab": {
          "base_uri": "https://localhost:8080/"
        },
        "id": "iJ2ygaXDmO7r",
        "outputId": "8410f658-f304-4ea8-808a-4bbfbd496c6e"
      },
      "execution_count": 16,
      "outputs": [
        {
          "output_type": "stream",
          "name": "stdout",
          "text": [
            "Collecting twitter\n",
            "  Downloading twitter-1.19.3-py2.py3-none-any.whl (50 kB)\n",
            "\u001b[K     |████████████████████████████████| 50 kB 2.4 MB/s \n",
            "\u001b[?25hInstalling collected packages: twitter\n",
            "Successfully installed twitter-1.19.3\n"
          ]
        }
      ]
    },
    {
      "cell_type": "markdown",
      "source": [
        "The following code authenticated our library with twitter api.\n",
        "Testing to see if the tweepy works by pulling random tweets."
      ],
      "metadata": {
        "id": "COtO7IHfp_ev"
      }
    },
    {
      "cell_type": "code",
      "source": [
        "import twitter\n",
        "import config\n",
        "\n",
        "CONSUMER_KEY = config.CONSUMER_KEY\n",
        "CONSUMER_SECRET = config.CONSUMER_SECRET\n",
        "OAUTH_TOKEN = config.OAUTH_TOKEN\n",
        "OAUTH_TOKEN_SECRET = config.OAUTH_TOKEN_SECRET\n",
        "auth = twitter.oauth.OAuth(OAUTH_TOKEN, OAUTH_TOKEN_SECRET,\n",
        "                           CONSUMER_KEY, CONSUMER_SECRET)\n",
        "\n",
        "mathcs_twitter_api = twitter.Twitter(auth=auth)"
      ],
      "metadata": {
        "id": "epBttqL2nAii"
      },
      "execution_count": 21,
      "outputs": []
    },
    {
      "cell_type": "code",
      "source": [
        "# The Yahoo! Where On Earth ID for the entire world is 1.\n",
        "# See https://dev.twitter.com/docs/api/1.1/get/trends/place and\n",
        "# http://developer.yahoo.com/geo/geoplanet/\n",
        "\n",
        "WORLD_WOE_ID = 1\n",
        "US_WOE_ID = 23424977\n",
        "\n",
        "# Prefix ID with the underscore for query string parameterization.\n",
        "# Without the underscore, the twitter package appends the ID value\n",
        "# to the URL itself as a special case keyword argument.\n",
        "\n",
        "world_trends = mathcs_twitter_api.trends.place(_id=WORLD_WOE_ID)\n",
        "us_trends = mathcs_twitter_api.trends.place(_id=US_WOE_ID)\n",
        "\n",
        "for i in range(10):\n",
        "    print(world_trends[0]['trends'][i]['query'])"
      ],
      "metadata": {
        "colab": {
          "base_uri": "https://localhost:8080/"
        },
        "id": "AZTUC3wQwDBq",
        "outputId": "138aa1bd-060d-4509-f087-1e01f9939a92"
      },
      "execution_count": 29,
      "outputs": [
        {
          "output_type": "stream",
          "name": "stdout",
          "text": [
            "%23MelodicVoiceINDay\n",
            "%23isolitiignoti\n",
            "%23%EC%9D%B4%EC%97%94%EC%9D%B4_%EB%AF%B8%EC%86%8C%EA%B0%80_%EC%84%B8%EC%83%81%EC%9D%84_%EB%B0%9D%ED%9E%8C%EB%82%A0\n",
            "%23akaryak%C4%B1t\n",
            "Notifications\n",
            "%23JohnsonOut14\n",
            "%22ExtraordINary+DAY%22\n",
            "%22Jason+Roy%22\n",
            "Euphoria\n",
            "Poutine\n"
          ]
        }
      ]
    },
    {
      "cell_type": "code",
      "source": [
        "# AAAA The Yahoo! Where On Earth ID for the entire world is 1.\n",
        "# See https://dev.twitter.com/docs/api/1.1/get/trends/place and\n",
        "# http://developer.yahoo.com/geo/geoplanet/\n",
        "\n",
        "WORLD_WOE_ID = 1\n",
        "\n",
        "# Prefix ID with the underscore for query string parameterization.\n",
        "# Without the underscore, the twitter package appends the ID value\n",
        "# to the URL itself as a special case keyword argument.\n",
        "\n",
        "world_trends = tweepy_api.trends_place(WORLD_WOE_ID, exclude= \"hashtags\")\n",
        "trends_list = []\n",
        "print(\"****** Top 10 trends from the world. ********\")\n",
        "for value in world_trends:\n",
        "    for trend in value['trends']:\n",
        "      trends_list.append(trend['name'])\n",
        "\n",
        "top_ten = trends_list[:10]\n",
        "print(*top_ten, sep = \"\\n\")"
      ],
      "metadata": {
        "colab": {
          "base_uri": "https://localhost:8080/"
        },
        "id": "-htXnNK2ukec",
        "outputId": "389903ef-2c9f-4387-8cc1-71d8e082b810"
      },
      "execution_count": 28,
      "outputs": [
        {
          "output_type": "stream",
          "name": "stdout",
          "text": [
            "****** Top 10 trends from the world. ********\n",
            "Notifications\n",
            "ExtraordINary DAY\n",
            "jason roy\n",
            "Euphoria\n",
            "Poutine\n",
            "LET SOMEBODY GO MUSIC VIDEO\n",
            "Lovie Smith\n",
            "Piers Corbyn\n",
            "Wordle 234\n",
            "デジタルKFCカード1万円分プレゼント\n"
          ]
        }
      ]
    },
    {
      "cell_type": "markdown",
      "source": [
        "## Search for your favorite show, actor, sports team or player and see what twitter is saying about them.\n",
        "\n",
        "I am doing `Lionel Andreas Messi` as my favorite Soccer player."
      ],
      "metadata": {
        "id": "v4_ylciuwf8j"
      }
    },
    {
      "cell_type": "code",
      "source": [
        ""
      ],
      "metadata": {
        "colab": {
          "base_uri": "https://localhost:8080/",
          "height": 236
        },
        "id": "atW2PqiAvSG0",
        "outputId": "67ef70d2-67f7-404d-ca14-70d35bc01738"
      },
      "execution_count": 26,
      "outputs": [
        {
          "output_type": "error",
          "ename": "AttributeError",
          "evalue": "ignored",
          "traceback": [
            "\u001b[0;31m---------------------------------------------------------------------------\u001b[0m",
            "\u001b[0;31mAttributeError\u001b[0m                            Traceback (most recent call last)",
            "\u001b[0;32m<ipython-input-26-b83df4b064d8>\u001b[0m in \u001b[0;36m<module>\u001b[0;34m()\u001b[0m\n\u001b[1;32m      6\u001b[0m \u001b[0mq\u001b[0m \u001b[0;34m=\u001b[0m \u001b[0;34m\"Lionel Messi\"\u001b[0m\u001b[0;34m\u001b[0m\u001b[0;34m\u001b[0m\u001b[0m\n\u001b[1;32m      7\u001b[0m \u001b[0;34m\u001b[0m\u001b[0m\n\u001b[0;32m----> 8\u001b[0;31m \u001b[0;32mfor\u001b[0m \u001b[0mtweet\u001b[0m \u001b[0;32min\u001b[0m \u001b[0mtwitter\u001b[0m\u001b[0;34m.\u001b[0m\u001b[0mCursor\u001b[0m\u001b[0;34m(\u001b[0m\u001b[0mmathcs_twitter_api\u001b[0m\u001b[0;34m.\u001b[0m\u001b[0msearch\u001b[0m\u001b[0;34m,\u001b[0m \u001b[0mq\u001b[0m \u001b[0;34m,\u001b[0m \u001b[0mrpp\u001b[0m\u001b[0;34m=\u001b[0m\u001b[0;36m100\u001b[0m\u001b[0;34m)\u001b[0m\u001b[0;34m.\u001b[0m\u001b[0mitems\u001b[0m\u001b[0;34m(\u001b[0m\u001b[0;36m100\u001b[0m\u001b[0;34m)\u001b[0m\u001b[0;34m:\u001b[0m\u001b[0;34m\u001b[0m\u001b[0;34m\u001b[0m\u001b[0m\n\u001b[0m\u001b[1;32m      9\u001b[0m     \u001b[0mmsg\u001b[0m \u001b[0;34m=\u001b[0m \u001b[0;34m[\u001b[0m\u001b[0mtweet\u001b[0m\u001b[0;34m.\u001b[0m\u001b[0mtext\u001b[0m\u001b[0;34m]\u001b[0m\u001b[0;34m\u001b[0m\u001b[0;34m\u001b[0m\u001b[0m\n\u001b[1;32m     10\u001b[0m     \u001b[0mmsg\u001b[0m \u001b[0;34m=\u001b[0m \u001b[0mtuple\u001b[0m\u001b[0;34m(\u001b[0m\u001b[0mmsg\u001b[0m\u001b[0;34m)\u001b[0m\u001b[0;34m\u001b[0m\u001b[0;34m\u001b[0m\u001b[0m\n",
            "\u001b[0;31mAttributeError\u001b[0m: module 'twitter' has no attribute 'Cursor'"
          ]
        }
      ]
    },
    {
      "cell_type": "code",
      "source": [
        ""
      ],
      "metadata": {
        "id": "6mHUURb-w7NN"
      },
      "execution_count": null,
      "outputs": []
    }
  ]
}