{
  "nbformat": 4,
  "nbformat_minor": 0,
  "metadata": {
    "colab": {
      "name": "ProposalRecentViz.ipynb",
      "provenance": [],
      "authorship_tag": "ABX9TyOBKHSJeWQugHbrpjvvcwe9",
      "include_colab_link": true
    },
    "kernelspec": {
      "name": "python3",
      "display_name": "Python 3"
    },
    "language_info": {
      "name": "python"
    }
  },
  "cells": [
    {
      "cell_type": "markdown",
      "metadata": {
        "id": "view-in-github",
        "colab_type": "text"
      },
      "source": [
        "<a href=\"https://colab.research.google.com/github/Nissun662/Data-Visual/blob/main/ProposalRecentViz.ipynb\" target=\"_parent\"><img src=\"https://colab.research.google.com/assets/colab-badge.svg\" alt=\"Open In Colab\"/></a>"
      ]
    },
    {
      "cell_type": "markdown",
      "source": [
        "For the project Recent Visualization, I am choosing the topic UEFA Champions League 2021-2022. UEFA Champions League (UCL) is the Europe's premier club football tournament which is organized anually by the Union of European Football Association (UEFA). A total of 32 teams will be competing in the 2021-22 UEFA Champions League with a dream of winning the most prestigious trophy in professional club football.  \n",
        "\n",
        "Since UCL is one of the famous sports broadcasted all over the world through different sports channels, I believe most of my classmates are familiar with it. I will be focusing on how tv/sports channel from Manchester, England portrays the champions leaguge with that of Madrid, Spain. I am already getting into researching the local channels and news papers to see how things are different in people living in different regions of Europe. The topic I chose  will be appropriate as I can find many visualization and datasets to work with. Since, I watch all game live on my laptop I can tell whether or not the information/visuals found on web while doing my research are representing honest facts or just some misleading information.\n",
        "\n",
        "While doing this project, I hope to learn how to critic on a data visualization. I can carefully look at the graph or heat map or some other visuals and tell if it is representing a good or bad information. I will aslo learn to broaden my skill of researching and gathering data from the web. \n",
        "\n"
      ],
      "metadata": {
        "id": "Jq_ySzh5y7rP"
      }
    },
    {
      "cell_type": "code",
      "source": [
        ""
      ],
      "metadata": {
        "id": "9xe5eNqA7pwO"
      },
      "execution_count": null,
      "outputs": []
    }
  ]
}