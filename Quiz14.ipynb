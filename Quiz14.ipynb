{
  "nbformat": 4,
  "nbformat_minor": 0,
  "metadata": {
    "colab": {
      "name": "Quiz14.ipynb",
      "provenance": [],
      "authorship_tag": "ABX9TyM0kqtfgOsbiDgc7kyl9KE5",
      "include_colab_link": true
    },
    "kernelspec": {
      "name": "python3",
      "display_name": "Python 3"
    },
    "language_info": {
      "name": "python"
    }
  },
  "cells": [
    {
      "cell_type": "markdown",
      "metadata": {
        "id": "view-in-github",
        "colab_type": "text"
      },
      "source": [
        "<a href=\"https://colab.research.google.com/github/Nissun662/Data-Visual/blob/main/Quiz14.ipynb\" target=\"_parent\"><img src=\"https://colab.research.google.com/assets/colab-badge.svg\" alt=\"Open In Colab\"/></a>"
      ]
    },
    {
      "cell_type": "markdown",
      "source": [
        "#Data Processing and Visualization\n",
        "##Nishan Sunar\n",
        "250662"
      ],
      "metadata": {
        "id": "gH7cSeYJYklT"
      }
    },
    {
      "cell_type": "markdown",
      "source": [
        "##Today's Assignment: Strings\n",
        "Write a program to print the 'Happy Birthday' song including your name. Try to do it with as few strings as possible."
      ],
      "metadata": {
        "id": "CDJsMWfjY9fu"
      }
    },
    {
      "cell_type": "code",
      "execution_count": 15,
      "metadata": {
        "colab": {
          "base_uri": "https://localhost:8080/"
        },
        "id": "cd6JP5GcYjf9",
        "outputId": "4afefba9-f9c9-4bc2-fde6-96de0760963d"
      },
      "outputs": [
        {
          "output_type": "stream",
          "name": "stdout",
          "text": [
            "You say its your birthday,\n",
            "Its my birthday too, yeah!\n",
            "They say its your birthday,\n",
            "We are gonna have a good time,\n",
            "Im glad its your birthday,\n",
            "Happy birthday to you Nishan.\n",
            "#The Beatles\n"
          ]
        }
      ],
      "source": [
        "#Happy Birthday to me\n",
        "birthday_song = 'You say its your birthday,\\nIts my birthday too, yeah!\\nThey say its your birthday,\\nWe are gonna have a good time,\\nIm glad its your birthday,\\nHappy birthday to you Nishan.\\n#The Beatles'\n",
        "print(birthday_song)"
      ]
    },
    {
      "cell_type": "code",
      "source": [
        ""
      ],
      "metadata": {
        "id": "jNUZqOk_eAgk"
      },
      "execution_count": 15,
      "outputs": []
    }
  ]
}