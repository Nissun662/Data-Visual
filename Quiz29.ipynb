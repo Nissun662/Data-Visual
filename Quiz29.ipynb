{
  "nbformat": 4,
  "nbformat_minor": 0,
  "metadata": {
    "colab": {
      "name": "Quiz29.ipynb",
      "provenance": [],
      "authorship_tag": "ABX9TyNXvJ0nqmnDnbFODDzlPFJk",
      "include_colab_link": true
    },
    "kernelspec": {
      "name": "python3",
      "display_name": "Python 3"
    },
    "language_info": {
      "name": "python"
    }
  },
  "cells": [
    {
      "cell_type": "markdown",
      "metadata": {
        "id": "view-in-github",
        "colab_type": "text"
      },
      "source": [
        "<a href=\"https://colab.research.google.com/github/Nissun662/Data-Visual/blob/main/Quiz29.ipynb\" target=\"_parent\"><img src=\"https://colab.research.google.com/assets/colab-badge.svg\" alt=\"Open In Colab\"/></a>"
      ]
    },
    {
      "cell_type": "markdown",
      "source": [
        "#Data Processing and Visualization\n",
        "#Nishan Sunar\n",
        "250662\n"
      ],
      "metadata": {
        "id": "txNeqp8jqK5m"
      }
    },
    {
      "cell_type": "markdown",
      "source": [
        "#Today's Assignmnet:\n",
        "1. Explain the difference between standard error and confidence intervals.\n",
        "2. Use the workout data and graph the average calories by workout type and include the 95% confidence interval."
      ],
      "metadata": {
        "id": "r0c6prbMqSMT"
      }
    },
    {
      "cell_type": "code",
      "execution_count": null,
      "metadata": {
        "id": "xVQ5YR3YqIij"
      },
      "outputs": [],
      "source": [
        ""
      ]
    }
  ]
}