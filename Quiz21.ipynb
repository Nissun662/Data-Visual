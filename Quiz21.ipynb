{
  "nbformat": 4,
  "nbformat_minor": 0,
  "metadata": {
    "colab": {
      "name": "Quiz21.ipynb",
      "provenance": [],
      "authorship_tag": "ABX9TyMRc693sp5gsc11jJ4rwiSO",
      "include_colab_link": true
    },
    "kernelspec": {
      "name": "python3",
      "display_name": "Python 3"
    },
    "language_info": {
      "name": "python"
    }
  },
  "cells": [
    {
      "cell_type": "markdown",
      "metadata": {
        "id": "view-in-github",
        "colab_type": "text"
      },
      "source": [
        "<a href=\"https://colab.research.google.com/github/Nissun662/Data-Visual/blob/main/Quiz21.ipynb\" target=\"_parent\"><img src=\"https://colab.research.google.com/assets/colab-badge.svg\" alt=\"Open In Colab\"/></a>"
      ]
    },
    {
      "cell_type": "markdown",
      "source": [
        "#Data Processing and Visualization\n",
        "##Nishan Sunar\n",
        "\n",
        "250662"
      ],
      "metadata": {
        "id": "aVeuXlmawowu"
      }
    },
    {
      "cell_type": "markdown",
      "source": [
        "#Today's Assignment:\n",
        "\n",
        "1. Examine John Snow's map of cholera outbreak in 1854 for 'graphical excellence'.  Discuss the highlights of the graphic.\n",
        "2. Find a modern reference and dicuss the excellence displayed.  Include a link and image in your report."
      ],
      "metadata": {
        "id": "EhATA-Xtw3zN"
      }
    },
    {
      "cell_type": "markdown",
      "source": [
        "![John Snow's map of cholera outbreak](https://upload.wikimedia.org/wikipedia/commons/2/27/Snow-cholera-map-1.jpg)"
      ],
      "metadata": {
        "id": "8vOEwGZUxizr"
      }
    },
    {
      "cell_type": "markdown",
      "source": [
        "The above map represents the source of outbreak and the spread of Cholera disease during 1854 in London. Dr. John Snow was able to interpret the source of outbreak, affected area and the number of deaths in the area by collecting the data and recording it on his map which helped in illustrating the vivid picture in easily understandable way. In the given map, the number of death is represented by the bar and water pumps are indicated by the dots."
      ],
      "metadata": {
        "id": "PVoVBnrwazJR"
      }
    },
    {
      "cell_type": "markdown",
      "source": [
        "#Modern Map\n",
        "\n",
        "From [SAS Blogs] (https://blogs.sas.com/content/sgf/files/2019/04/compare2.png)"
      ],
      "metadata": {
        "id": "ybiiIHw1ipUY"
      }
    },
    {
      "cell_type": "markdown",
      "source": [
        "![Modern John Snow's map of cholera outbreak](https://blogs.sas.com/content/sgf/files/2019/04/compare2-1024x464.png)"
      ],
      "metadata": {
        "id": "Y-HorzcyiP-X"
      }
    },
    {
      "cell_type": "markdown",
      "source": [
        "I was able to collect the above image of the Cholera outbreak in 1854 near Broad Street in the Soho district of the City of Westminster, London, England. The modern interpretation of map with the help of computing power and modern analisis gives us more informatiom compared ot the older version. This image actually shows the exact same information with more understandabilty to the viwer. The image uses Voronoi polygon and cluster analysis overlay which allows to form the variety of color symbolising the intensity, number of deaths, population affected and the source of wells.\n"
      ],
      "metadata": {
        "id": "WQgheIYFiztR"
      }
    },
    {
      "cell_type": "code",
      "execution_count": null,
      "metadata": {
        "id": "aAtThVZkwnpr"
      },
      "outputs": [],
      "source": [
        ""
      ]
    }
  ]
}